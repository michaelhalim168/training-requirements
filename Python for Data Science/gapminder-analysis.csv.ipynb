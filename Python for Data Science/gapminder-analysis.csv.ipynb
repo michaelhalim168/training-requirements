{
 "cells": [
  {
   "cell_type": "markdown",
   "metadata": {},
   "source": [
    "# Python for Data Science: Gapminder Analysis"
   ]
  },
  {
   "cell_type": "code",
   "execution_count": 17,
   "metadata": {},
   "outputs": [],
   "source": [
    "import numpy as np\n",
    "import pandas as pd\n",
    "import matplotlib.pyplot as plt\n",
    "import seaborn as sns\n",
    "import warnings\n",
    "import plotly.graph_objects as go\n",
    "import math\n",
    "%matplotlib inline\n",
    "warnings.filterwarnings('ignore')"
   ]
  },
  {
   "cell_type": "code",
   "execution_count": 105,
   "metadata": {},
   "outputs": [],
   "source": [
    "from scipy.stats import pearsonr, f_oneway, ttest_ind\n",
    "import statsmodels.stats as sm\n",
    "import statsmodels.api as sma\n",
    "from statsmodels.formula.api import ols"
   ]
  },
  {
   "cell_type": "code",
   "execution_count": 3,
   "metadata": {},
   "outputs": [
    {
     "data": {
      "text/html": [
       "<div>\n",
       "<style scoped>\n",
       "    .dataframe tbody tr th:only-of-type {\n",
       "        vertical-align: middle;\n",
       "    }\n",
       "\n",
       "    .dataframe tbody tr th {\n",
       "        vertical-align: top;\n",
       "    }\n",
       "\n",
       "    .dataframe thead th {\n",
       "        text-align: right;\n",
       "    }\n",
       "</style>\n",
       "<table border=\"1\" class=\"dataframe\">\n",
       "  <thead>\n",
       "    <tr style=\"text-align: right;\">\n",
       "      <th></th>\n",
       "      <th>Unnamed: 0</th>\n",
       "      <th>Country Name</th>\n",
       "      <th>Year</th>\n",
       "      <th>Agriculture, value added (% of GDP)</th>\n",
       "      <th>CO2 emissions (metric tons per capita)</th>\n",
       "      <th>Domestic credit provided by financial sector (% of GDP)</th>\n",
       "      <th>Electric power consumption (kWh per capita)</th>\n",
       "      <th>Energy use (kg of oil equivalent per capita)</th>\n",
       "      <th>Exports of goods and services (% of GDP)</th>\n",
       "      <th>Fertility rate, total (births per woman)</th>\n",
       "      <th>GDP growth (annual %)</th>\n",
       "      <th>Imports of goods and services (% of GDP)</th>\n",
       "      <th>Industry, value added (% of GDP)</th>\n",
       "      <th>Inflation, GDP deflator (annual %)</th>\n",
       "      <th>Life expectancy at birth, total (years)</th>\n",
       "      <th>Population density (people per sq. km of land area)</th>\n",
       "      <th>Services, etc., value added (% of GDP)</th>\n",
       "      <th>pop</th>\n",
       "      <th>continent</th>\n",
       "      <th>gdpPercap</th>\n",
       "    </tr>\n",
       "  </thead>\n",
       "  <tbody>\n",
       "    <tr>\n",
       "      <th>0</th>\n",
       "      <td>0</td>\n",
       "      <td>Afghanistan</td>\n",
       "      <td>1962</td>\n",
       "      <td>NaN</td>\n",
       "      <td>0.073781</td>\n",
       "      <td>21.276422</td>\n",
       "      <td>NaN</td>\n",
       "      <td>NaN</td>\n",
       "      <td>4.878051</td>\n",
       "      <td>7.450</td>\n",
       "      <td>NaN</td>\n",
       "      <td>9.349593</td>\n",
       "      <td>NaN</td>\n",
       "      <td>NaN</td>\n",
       "      <td>33.219902</td>\n",
       "      <td>14.312061</td>\n",
       "      <td>NaN</td>\n",
       "      <td>10267083.0</td>\n",
       "      <td>Asia</td>\n",
       "      <td>853.100710</td>\n",
       "    </tr>\n",
       "    <tr>\n",
       "      <th>1</th>\n",
       "      <td>1</td>\n",
       "      <td>Afghanistan</td>\n",
       "      <td>1967</td>\n",
       "      <td>NaN</td>\n",
       "      <td>0.123782</td>\n",
       "      <td>9.917662</td>\n",
       "      <td>NaN</td>\n",
       "      <td>NaN</td>\n",
       "      <td>6.772908</td>\n",
       "      <td>7.450</td>\n",
       "      <td>NaN</td>\n",
       "      <td>14.209827</td>\n",
       "      <td>NaN</td>\n",
       "      <td>NaN</td>\n",
       "      <td>35.389415</td>\n",
       "      <td>15.881812</td>\n",
       "      <td>NaN</td>\n",
       "      <td>11537966.0</td>\n",
       "      <td>Asia</td>\n",
       "      <td>836.197138</td>\n",
       "    </tr>\n",
       "    <tr>\n",
       "      <th>2</th>\n",
       "      <td>2</td>\n",
       "      <td>Afghanistan</td>\n",
       "      <td>1972</td>\n",
       "      <td>NaN</td>\n",
       "      <td>0.130820</td>\n",
       "      <td>18.880833</td>\n",
       "      <td>NaN</td>\n",
       "      <td>NaN</td>\n",
       "      <td>14.763231</td>\n",
       "      <td>7.450</td>\n",
       "      <td>NaN</td>\n",
       "      <td>18.105850</td>\n",
       "      <td>NaN</td>\n",
       "      <td>NaN</td>\n",
       "      <td>37.610146</td>\n",
       "      <td>17.947027</td>\n",
       "      <td>NaN</td>\n",
       "      <td>13079460.0</td>\n",
       "      <td>Asia</td>\n",
       "      <td>739.981106</td>\n",
       "    </tr>\n",
       "    <tr>\n",
       "      <th>3</th>\n",
       "      <td>3</td>\n",
       "      <td>Afghanistan</td>\n",
       "      <td>1977</td>\n",
       "      <td>NaN</td>\n",
       "      <td>0.183118</td>\n",
       "      <td>13.836822</td>\n",
       "      <td>NaN</td>\n",
       "      <td>NaN</td>\n",
       "      <td>11.662904</td>\n",
       "      <td>7.449</td>\n",
       "      <td>NaN</td>\n",
       "      <td>14.823175</td>\n",
       "      <td>NaN</td>\n",
       "      <td>NaN</td>\n",
       "      <td>40.110146</td>\n",
       "      <td>19.998926</td>\n",
       "      <td>NaN</td>\n",
       "      <td>14880372.0</td>\n",
       "      <td>Asia</td>\n",
       "      <td>786.113360</td>\n",
       "    </tr>\n",
       "    <tr>\n",
       "      <th>4</th>\n",
       "      <td>4</td>\n",
       "      <td>Afghanistan</td>\n",
       "      <td>1982</td>\n",
       "      <td>NaN</td>\n",
       "      <td>0.165879</td>\n",
       "      <td>NaN</td>\n",
       "      <td>NaN</td>\n",
       "      <td>NaN</td>\n",
       "      <td>NaN</td>\n",
       "      <td>7.450</td>\n",
       "      <td>NaN</td>\n",
       "      <td>NaN</td>\n",
       "      <td>NaN</td>\n",
       "      <td>NaN</td>\n",
       "      <td>43.230732</td>\n",
       "      <td>19.402324</td>\n",
       "      <td>NaN</td>\n",
       "      <td>12881816.0</td>\n",
       "      <td>Asia</td>\n",
       "      <td>978.011439</td>\n",
       "    </tr>\n",
       "  </tbody>\n",
       "</table>\n",
       "</div>"
      ],
      "text/plain": [
       "   Unnamed: 0 Country Name  Year  Agriculture, value added (% of GDP)  \\\n",
       "0           0  Afghanistan  1962                                  NaN   \n",
       "1           1  Afghanistan  1967                                  NaN   \n",
       "2           2  Afghanistan  1972                                  NaN   \n",
       "3           3  Afghanistan  1977                                  NaN   \n",
       "4           4  Afghanistan  1982                                  NaN   \n",
       "\n",
       "   CO2 emissions (metric tons per capita)  \\\n",
       "0                                0.073781   \n",
       "1                                0.123782   \n",
       "2                                0.130820   \n",
       "3                                0.183118   \n",
       "4                                0.165879   \n",
       "\n",
       "   Domestic credit provided by financial sector (% of GDP)  \\\n",
       "0                                          21.276422         \n",
       "1                                           9.917662         \n",
       "2                                          18.880833         \n",
       "3                                          13.836822         \n",
       "4                                                NaN         \n",
       "\n",
       "   Electric power consumption (kWh per capita)  \\\n",
       "0                                          NaN   \n",
       "1                                          NaN   \n",
       "2                                          NaN   \n",
       "3                                          NaN   \n",
       "4                                          NaN   \n",
       "\n",
       "   Energy use (kg of oil equivalent per capita)  \\\n",
       "0                                           NaN   \n",
       "1                                           NaN   \n",
       "2                                           NaN   \n",
       "3                                           NaN   \n",
       "4                                           NaN   \n",
       "\n",
       "   Exports of goods and services (% of GDP)  \\\n",
       "0                                  4.878051   \n",
       "1                                  6.772908   \n",
       "2                                 14.763231   \n",
       "3                                 11.662904   \n",
       "4                                       NaN   \n",
       "\n",
       "   Fertility rate, total (births per woman)  GDP growth (annual %)  \\\n",
       "0                                     7.450                    NaN   \n",
       "1                                     7.450                    NaN   \n",
       "2                                     7.450                    NaN   \n",
       "3                                     7.449                    NaN   \n",
       "4                                     7.450                    NaN   \n",
       "\n",
       "   Imports of goods and services (% of GDP)  Industry, value added (% of GDP)  \\\n",
       "0                                  9.349593                               NaN   \n",
       "1                                 14.209827                               NaN   \n",
       "2                                 18.105850                               NaN   \n",
       "3                                 14.823175                               NaN   \n",
       "4                                       NaN                               NaN   \n",
       "\n",
       "   Inflation, GDP deflator (annual %)  \\\n",
       "0                                 NaN   \n",
       "1                                 NaN   \n",
       "2                                 NaN   \n",
       "3                                 NaN   \n",
       "4                                 NaN   \n",
       "\n",
       "   Life expectancy at birth, total (years)  \\\n",
       "0                                33.219902   \n",
       "1                                35.389415   \n",
       "2                                37.610146   \n",
       "3                                40.110146   \n",
       "4                                43.230732   \n",
       "\n",
       "   Population density (people per sq. km of land area)  \\\n",
       "0                                          14.312061     \n",
       "1                                          15.881812     \n",
       "2                                          17.947027     \n",
       "3                                          19.998926     \n",
       "4                                          19.402324     \n",
       "\n",
       "   Services, etc., value added (% of GDP)         pop continent   gdpPercap  \n",
       "0                                     NaN  10267083.0      Asia  853.100710  \n",
       "1                                     NaN  11537966.0      Asia  836.197138  \n",
       "2                                     NaN  13079460.0      Asia  739.981106  \n",
       "3                                     NaN  14880372.0      Asia  786.113360  \n",
       "4                                     NaN  12881816.0      Asia  978.011439  "
      ]
     },
     "execution_count": 3,
     "metadata": {},
     "output_type": "execute_result"
    }
   ],
   "source": [
    "df = pd.read_csv('gapminder_clean.csv')\n",
    "df.head()"
   ]
  },
  {
   "cell_type": "code",
   "execution_count": 4,
   "metadata": {},
   "outputs": [
    {
     "data": {
      "text/plain": [
       "(2607, 20)"
      ]
     },
     "execution_count": 4,
     "metadata": {},
     "output_type": "execute_result"
    }
   ],
   "source": [
    "df.shape"
   ]
  },
  {
   "cell_type": "code",
   "execution_count": 5,
   "metadata": {},
   "outputs": [
    {
     "data": {
      "text/plain": [
       "Index(['Unnamed: 0', 'Country Name', 'Year',\n",
       "       'Agriculture, value added (% of GDP)',\n",
       "       'CO2 emissions (metric tons per capita)',\n",
       "       'Domestic credit provided by financial sector (% of GDP)',\n",
       "       'Electric power consumption (kWh per capita)',\n",
       "       'Energy use (kg of oil equivalent per capita)',\n",
       "       'Exports of goods and services (% of GDP)',\n",
       "       'Fertility rate, total (births per woman)', 'GDP growth (annual %)',\n",
       "       'Imports of goods and services (% of GDP)',\n",
       "       'Industry, value added (% of GDP)',\n",
       "       'Inflation, GDP deflator (annual %)',\n",
       "       'Life expectancy at birth, total (years)',\n",
       "       'Population density (people per sq. km of land area)',\n",
       "       'Services, etc., value added (% of GDP)', 'pop', 'continent',\n",
       "       'gdpPercap'],\n",
       "      dtype='object')"
      ]
     },
     "execution_count": 5,
     "metadata": {},
     "output_type": "execute_result"
    }
   ],
   "source": [
    "df.columns"
   ]
  },
  {
   "cell_type": "code",
   "execution_count": 6,
   "metadata": {},
   "outputs": [
    {
     "data": {
      "image/png": "[encoded data removed]",
      "text/plain": [
       "<Figure size 432x288 with 1 Axes>"
      ]
     },
     "metadata": {},
     "output_type": "display_data"
    }
   ],
   "source": [
    "sns.set_style('ticks')\n",
    "sns.heatmap(df.isna(), yticklabels=False, cbar=False)\n",
    "plt.show()"
   ]
  },
  {
   "cell_type": "markdown",
   "metadata": {},
   "source": [
    "## Part 1: Relationship between GDP per Capita and CO2 Emissions per Capita"
   ]
  },
  {
   "cell_type": "code",
   "execution_count": 7,
   "metadata": {},
   "outputs": [],
   "source": [
    "df_1962 = df[df['Year'] == 1962][['Country Name', 'CO2 emissions (metric tons per capita)', 'gdpPercap']].dropna()\n",
    "df_1962.columns = ['country_name', 'co2', 'gdp']"
   ]
  },
  {
   "cell_type": "code",
   "execution_count": 8,
   "metadata": {},
   "outputs": [
    {
     "data": {
      "text/html": [
       "<div>\n",
       "<style scoped>\n",
       "    .dataframe tbody tr th:only-of-type {\n",
       "        vertical-align: middle;\n",
       "    }\n",
       "\n",
       "    .dataframe tbody tr th {\n",
       "        vertical-align: top;\n",
       "    }\n",
       "\n",
       "    .dataframe thead th {\n",
       "        text-align: right;\n",
       "    }\n",
       "</style>\n",
       "<table border=\"1\" class=\"dataframe\">\n",
       "  <thead>\n",
       "    <tr style=\"text-align: right;\">\n",
       "      <th></th>\n",
       "      <th>country_name</th>\n",
       "      <th>co2</th>\n",
       "      <th>gdp</th>\n",
       "    </tr>\n",
       "  </thead>\n",
       "  <tbody>\n",
       "    <tr>\n",
       "      <th>0</th>\n",
       "      <td>Afghanistan</td>\n",
       "      <td>0.073781</td>\n",
       "      <td>853.100710</td>\n",
       "    </tr>\n",
       "    <tr>\n",
       "      <th>10</th>\n",
       "      <td>Albania</td>\n",
       "      <td>1.439956</td>\n",
       "      <td>2312.888958</td>\n",
       "    </tr>\n",
       "    <tr>\n",
       "      <th>20</th>\n",
       "      <td>Algeria</td>\n",
       "      <td>0.484954</td>\n",
       "      <td>2550.816880</td>\n",
       "    </tr>\n",
       "    <tr>\n",
       "      <th>50</th>\n",
       "      <td>Angola</td>\n",
       "      <td>0.216025</td>\n",
       "      <td>4269.276742</td>\n",
       "    </tr>\n",
       "    <tr>\n",
       "      <th>80</th>\n",
       "      <td>Argentina</td>\n",
       "      <td>2.522392</td>\n",
       "      <td>7133.166023</td>\n",
       "    </tr>\n",
       "  </tbody>\n",
       "</table>\n",
       "</div>"
      ],
      "text/plain": [
       "   country_name       co2          gdp\n",
       "0   Afghanistan  0.073781   853.100710\n",
       "10      Albania  1.439956  2312.888958\n",
       "20      Algeria  0.484954  2550.816880\n",
       "50       Angola  0.216025  4269.276742\n",
       "80    Argentina  2.522392  7133.166023"
      ]
     },
     "execution_count": 8,
     "metadata": {},
     "output_type": "execute_result"
    }
   ],
   "source": [
    "df_1962.head()"
   ]
  },
  {
   "cell_type": "code",
   "execution_count": 9,
   "metadata": {},
   "outputs": [
    {
     "data": {
      "text/html": [
       "<div>\n",
       "<style scoped>\n",
       "    .dataframe tbody tr th:only-of-type {\n",
       "        vertical-align: middle;\n",
       "    }\n",
       "\n",
       "    .dataframe tbody tr th {\n",
       "        vertical-align: top;\n",
       "    }\n",
       "\n",
       "    .dataframe thead th {\n",
       "        text-align: right;\n",
       "    }\n",
       "</style>\n",
       "<table border=\"1\" class=\"dataframe\">\n",
       "  <thead>\n",
       "    <tr style=\"text-align: right;\">\n",
       "      <th></th>\n",
       "      <th>country_name</th>\n",
       "      <th>co2</th>\n",
       "      <th>gdp</th>\n",
       "      <th>log_co2</th>\n",
       "      <th>log_gdp</th>\n",
       "    </tr>\n",
       "  </thead>\n",
       "  <tbody>\n",
       "    <tr>\n",
       "      <th>0</th>\n",
       "      <td>Afghanistan</td>\n",
       "      <td>0.073781</td>\n",
       "      <td>853.100710</td>\n",
       "      <td>-1.132053</td>\n",
       "      <td>2.931000</td>\n",
       "    </tr>\n",
       "    <tr>\n",
       "      <th>10</th>\n",
       "      <td>Albania</td>\n",
       "      <td>1.439956</td>\n",
       "      <td>2312.888958</td>\n",
       "      <td>0.158349</td>\n",
       "      <td>3.364155</td>\n",
       "    </tr>\n",
       "    <tr>\n",
       "      <th>20</th>\n",
       "      <td>Algeria</td>\n",
       "      <td>0.484954</td>\n",
       "      <td>2550.816880</td>\n",
       "      <td>-0.314300</td>\n",
       "      <td>3.406679</td>\n",
       "    </tr>\n",
       "    <tr>\n",
       "      <th>50</th>\n",
       "      <td>Angola</td>\n",
       "      <td>0.216025</td>\n",
       "      <td>4269.276742</td>\n",
       "      <td>-0.665495</td>\n",
       "      <td>3.630354</td>\n",
       "    </tr>\n",
       "    <tr>\n",
       "      <th>80</th>\n",
       "      <td>Argentina</td>\n",
       "      <td>2.522392</td>\n",
       "      <td>7133.166023</td>\n",
       "      <td>0.401813</td>\n",
       "      <td>3.853282</td>\n",
       "    </tr>\n",
       "    <tr>\n",
       "      <th>...</th>\n",
       "      <td>...</td>\n",
       "      <td>...</td>\n",
       "      <td>...</td>\n",
       "      <td>...</td>\n",
       "      <td>...</td>\n",
       "    </tr>\n",
       "    <tr>\n",
       "      <th>2443</th>\n",
       "      <td>Uganda</td>\n",
       "      <td>0.059258</td>\n",
       "      <td>767.271740</td>\n",
       "      <td>-1.227251</td>\n",
       "      <td>2.884949</td>\n",
       "    </tr>\n",
       "    <tr>\n",
       "      <th>2473</th>\n",
       "      <td>United Kingdom</td>\n",
       "      <td>11.142928</td>\n",
       "      <td>12477.177070</td>\n",
       "      <td>1.046999</td>\n",
       "      <td>4.096116</td>\n",
       "    </tr>\n",
       "    <tr>\n",
       "      <th>2483</th>\n",
       "      <td>United States</td>\n",
       "      <td>16.013937</td>\n",
       "      <td>16173.145860</td>\n",
       "      <td>1.204498</td>\n",
       "      <td>4.208795</td>\n",
       "    </tr>\n",
       "    <tr>\n",
       "      <th>2503</th>\n",
       "      <td>Uruguay</td>\n",
       "      <td>1.540657</td>\n",
       "      <td>5603.357717</td>\n",
       "      <td>0.187706</td>\n",
       "      <td>3.748448</td>\n",
       "    </tr>\n",
       "    <tr>\n",
       "      <th>2543</th>\n",
       "      <td>Vietnam</td>\n",
       "      <td>0.258760</td>\n",
       "      <td>772.049160</td>\n",
       "      <td>-0.587103</td>\n",
       "      <td>2.887645</td>\n",
       "    </tr>\n",
       "  </tbody>\n",
       "</table>\n",
       "<p>108 rows × 5 columns</p>\n",
       "</div>"
      ],
      "text/plain": [
       "        country_name        co2           gdp   log_co2   log_gdp\n",
       "0        Afghanistan   0.073781    853.100710 -1.132053  2.931000\n",
       "10           Albania   1.439956   2312.888958  0.158349  3.364155\n",
       "20           Algeria   0.484954   2550.816880 -0.314300  3.406679\n",
       "50            Angola   0.216025   4269.276742 -0.665495  3.630354\n",
       "80         Argentina   2.522392   7133.166023  0.401813  3.853282\n",
       "...              ...        ...           ...       ...       ...\n",
       "2443          Uganda   0.059258    767.271740 -1.227251  2.884949\n",
       "2473  United Kingdom  11.142928  12477.177070  1.046999  4.096116\n",
       "2483   United States  16.013937  16173.145860  1.204498  4.208795\n",
       "2503         Uruguay   1.540657   5603.357717  0.187706  3.748448\n",
       "2543         Vietnam   0.258760    772.049160 -0.587103  2.887645\n",
       "\n",
       "[108 rows x 5 columns]"
      ]
     },
     "execution_count": 9,
     "metadata": {},
     "output_type": "execute_result"
    }
   ],
   "source": [
    "df_1962['log_co2'] = np.log10(df_1962['co2'])\n",
    "df_1962['log_gdp'] = np.log10(df_1962['gdp'])\n",
    "df_1962"
   ]
  },
  {
   "cell_type": "code",
   "execution_count": 10,
   "metadata": {},
   "outputs": [
    {
     "data": {
      "image/png": "[encoded data removed]",
      "text/plain": [
       "<Figure size 864x360 with 2 Axes>"
      ]
     },
     "metadata": {},
     "output_type": "display_data"
    }
   ],
   "source": [
    "fig, ax = plt.subplots(nrows=1, ncols=2, figsize=(12,5))\n",
    "\n",
    "sns.set_color_codes('pastel')\n",
    "sns.scatterplot(x='gdp', y='co2', data=df_1962, ax=ax[0], color='b', edgecolor='.2')\n",
    "ax[0].set(xlabel='GDP Per Capita ($)', ylabel='CO2 Emissions per Capita')\n",
    "ax[0].set_title('GDP vs. CO2 Emissions', fontsize=14, fontweight='bold', y=1.05)\n",
    "\n",
    "sns.set_color_codes('pastel')\n",
    "sns.scatterplot(x='log_gdp', y='log_co2', data=df_1962, ax=ax[1], color='b', edgecolor='.2')\n",
    "ax[1].set(xlabel='GDP Per Capita (log)', ylabel='CO2 Emissions per Capita (log)')\n",
    "ax[1].set_title('Log of GDP vs. Log of CO2 Emissions', fontsize=14, fontweight='bold', y=1.05)\n",
    "sns.despine()\n",
    "plt.show()"
   ]
  },
  {
   "cell_type": "code",
   "execution_count": 12,
   "metadata": {},
   "outputs": [
    {
     "name": "stdout",
     "output_type": "stream",
     "text": [
      "R2 and p-value of log-plot: 0.86, 8.903567239714032e-33\n"
     ]
    }
   ],
   "source": [
    "r_log, p_log = pearsonr(df_1962['log_co2'], df_1962['log_gdp'])\n",
    "print(f'R2 and p-value of log-plot: {round(r_log, 2)}, {p_log}')"
   ]
  },
  {
   "cell_type": "code",
   "execution_count": 13,
   "metadata": {},
   "outputs": [
    {
     "data": {
      "text/html": [
       "<div>\n",
       "<style scoped>\n",
       "    .dataframe tbody tr th:only-of-type {\n",
       "        vertical-align: middle;\n",
       "    }\n",
       "\n",
       "    .dataframe tbody tr th {\n",
       "        vertical-align: top;\n",
       "    }\n",
       "\n",
       "    .dataframe thead th {\n",
       "        text-align: right;\n",
       "    }\n",
       "</style>\n",
       "<table border=\"1\" class=\"dataframe\">\n",
       "  <thead>\n",
       "    <tr style=\"text-align: right;\">\n",
       "      <th></th>\n",
       "      <th>year</th>\n",
       "      <th>co2</th>\n",
       "      <th>gdppercap</th>\n",
       "    </tr>\n",
       "  </thead>\n",
       "  <tbody>\n",
       "    <tr>\n",
       "      <th>0</th>\n",
       "      <td>1962</td>\n",
       "      <td>-1.132053</td>\n",
       "      <td>2.931000</td>\n",
       "    </tr>\n",
       "    <tr>\n",
       "      <th>1</th>\n",
       "      <td>1967</td>\n",
       "      <td>-0.907341</td>\n",
       "      <td>2.922309</td>\n",
       "    </tr>\n",
       "    <tr>\n",
       "      <th>2</th>\n",
       "      <td>1972</td>\n",
       "      <td>-0.883325</td>\n",
       "      <td>2.869221</td>\n",
       "    </tr>\n",
       "    <tr>\n",
       "      <th>3</th>\n",
       "      <td>1977</td>\n",
       "      <td>-0.737268</td>\n",
       "      <td>2.895485</td>\n",
       "    </tr>\n",
       "    <tr>\n",
       "      <th>4</th>\n",
       "      <td>1982</td>\n",
       "      <td>-0.780208</td>\n",
       "      <td>2.990344</td>\n",
       "    </tr>\n",
       "  </tbody>\n",
       "</table>\n",
       "</div>"
      ],
      "text/plain": [
       "   year       co2  gdppercap\n",
       "0  1962 -1.132053   2.931000\n",
       "1  1967 -0.907341   2.922309\n",
       "2  1972 -0.883325   2.869221\n",
       "3  1977 -0.737268   2.895485\n",
       "4  1982 -0.780208   2.990344"
      ]
     },
     "execution_count": 13,
     "metadata": {},
     "output_type": "execute_result"
    }
   ],
   "source": [
    "filtered_df = df[['Year', 'CO2 emissions (metric tons per capita)', 'gdpPercap']].dropna()\n",
    "filtered_df.columns = ['year', 'co2', 'gdppercap']\n",
    "filtered_df['co2'] = np.log10(filtered_df['co2'])\n",
    "filtered_df['gdppercap'] = np.log10(filtered_df['gdppercap'])\n",
    "filtered_df.head()"
   ]
  },
  {
   "cell_type": "code",
   "execution_count": 14,
   "metadata": {},
   "outputs": [
    {
     "name": "stdout",
     "output_type": "stream",
     "text": [
      "The year 2002 has the highest correlation between GDP and CO2 Emissions: 0.93\n"
     ]
    }
   ],
   "source": [
    "correlation = filtered_df.groupby('year').corr('pearson').unstack()['co2']['gdppercap'].reset_index().rename(columns={'gdppercap':'gdp_co2_corr'})\n",
    "correlation = correlation.sort_values('gdp_co2_corr', ascending=False)\n",
    "print(f\"The year {int(correlation.iloc[0]['year'])} has the highest correlation between GDP and CO2 Emissions: {round(correlation.iloc[0]['gdp_co2_corr'], 2)}\")"
   ]
  },
  {
   "cell_type": "code",
   "execution_count": 15,
   "metadata": {},
   "outputs": [
    {
     "data": {
      "text/html": [
       "<div>\n",
       "<style scoped>\n",
       "    .dataframe tbody tr th:only-of-type {\n",
       "        vertical-align: middle;\n",
       "    }\n",
       "\n",
       "    .dataframe tbody tr th {\n",
       "        vertical-align: top;\n",
       "    }\n",
       "\n",
       "    .dataframe thead th {\n",
       "        text-align: right;\n",
       "    }\n",
       "</style>\n",
       "<table border=\"1\" class=\"dataframe\">\n",
       "  <thead>\n",
       "    <tr style=\"text-align: right;\">\n",
       "      <th></th>\n",
       "      <th>country</th>\n",
       "      <th>co2</th>\n",
       "      <th>gdp</th>\n",
       "      <th>pop</th>\n",
       "      <th>continent</th>\n",
       "    </tr>\n",
       "  </thead>\n",
       "  <tbody>\n",
       "    <tr>\n",
       "      <th>8</th>\n",
       "      <td>Afghanistan</td>\n",
       "      <td>-1.385849</td>\n",
       "      <td>2.861376</td>\n",
       "      <td>25268405.0</td>\n",
       "      <td>Asia</td>\n",
       "    </tr>\n",
       "    <tr>\n",
       "      <th>18</th>\n",
       "      <td>Albania</td>\n",
       "      <td>0.089743</td>\n",
       "      <td>3.663155</td>\n",
       "      <td>3508512.0</td>\n",
       "      <td>Europe</td>\n",
       "    </tr>\n",
       "    <tr>\n",
       "      <th>28</th>\n",
       "      <td>Algeria</td>\n",
       "      <td>0.453323</td>\n",
       "      <td>3.723295</td>\n",
       "      <td>31287142.0</td>\n",
       "      <td>Africa</td>\n",
       "    </tr>\n",
       "    <tr>\n",
       "      <th>58</th>\n",
       "      <td>Angola</td>\n",
       "      <td>-0.104454</td>\n",
       "      <td>3.442995</td>\n",
       "      <td>10866106.0</td>\n",
       "      <td>Africa</td>\n",
       "    </tr>\n",
       "    <tr>\n",
       "      <th>88</th>\n",
       "      <td>Argentina</td>\n",
       "      <td>0.517399</td>\n",
       "      <td>3.944366</td>\n",
       "      <td>38331121.0</td>\n",
       "      <td>Americas</td>\n",
       "    </tr>\n",
       "  </tbody>\n",
       "</table>\n",
       "</div>"
      ],
      "text/plain": [
       "        country       co2       gdp         pop continent\n",
       "8   Afghanistan -1.385849  2.861376  25268405.0      Asia\n",
       "18      Albania  0.089743  3.663155   3508512.0    Europe\n",
       "28      Algeria  0.453323  3.723295  31287142.0    Africa\n",
       "58       Angola -0.104454  3.442995  10866106.0    Africa\n",
       "88    Argentina  0.517399  3.944366  38331121.0  Americas"
      ]
     },
     "execution_count": 15,
     "metadata": {},
     "output_type": "execute_result"
    }
   ],
   "source": [
    "df_2002 = df[df['Year'] == 2002][['Country Name', 'CO2 emissions (metric tons per capita)', 'gdpPercap', 'pop', 'continent']].dropna()\n",
    "df_2002.columns = ['country', 'co2', 'gdp', 'pop', 'continent']\n",
    "df_2002['co2'] = np.log10(df_2002['co2'])\n",
    "df_2002['gdp'] = np.log10(df_2002['gdp'])\n",
    "df_2002.head()"
   ]
  },
  {
   "cell_type": "code",
   "execution_count": 35,
   "metadata": {},
   "outputs": [
    {
     "data": {
      "application/vnd.plotly.v1+json": {
       "config": {
        "plotlyServerURL": "https://plot.ly"
       },
       "data": [
        {
         "marker": {
          "line": {
           "width": 2
          },
          "size": [
           5593.491038698462,
           3296.3777089405276,
           2650.6816104541867,
           1276.8504219367278,
           3500.172710024464,
           2649.7316845295863,
           3991.238905402682,
           2011.9674450646562,
           2972.497098400602,
           783.82523562335,
           4031.4669786567765,
           668.8916205186009,
           704.0078124566517,
           2101.158014048444,
           8242.984714288872,
           1139.8701680454665,
           4533.293615022085,
           2967.796825929969,
           1154.3218788535544,
           5602.396094529554,
           1677.6921648502744,
           2317.0207163510645,
           4058.753133660632,
           3438.676344176637,
           3252.7182478659292,
           1681.9209256085733,
           1095.5391366811136,
           5582.811388538932,
           4298.113539682264,
           1404.333649814032,
           3337.7619747369645,
           10949.944018121736,
           2802.2135892897245,
           412.7614323068472,
           3296.973915577738,
           2314.9712741198323,
           2784.476611501702,
           6665.854933915079,
           6090.180457096489,
           1063.1411007011252,
           5881.647643305403,
           2231.0038099474414,
           3125.791899663188,
           4973.91887750494,
           3255.1207350880245,
           3453.4856304898676
          ],
          "sizemode": "area",
          "sizeref": 7.156535474655318
         },
         "mode": "markers",
         "name": "Africa",
         "text": [
          "Country: Algeria<br>CO2 Emissions: 2.84<br>GDP per capita: 5288.04<br>Population: 31287142.0<br>Continent: Africa",
          "Country: Angola<br>CO2 Emissions: 0.79<br>GDP per capita: 2773.29<br>Population: 10866106.0<br>Continent: Africa",
          "Country: Benin<br>CO2 Emissions: 0.28<br>GDP per capita: 1372.88<br>Population: 7026113.0<br>Continent: Africa",
          "Country: Botswana<br>CO2 Emissions: 2.23<br>GDP per capita: 11003.61<br>Population: 1630347.0<br>Continent: Africa",
          "Country: Burkina Faso<br>CO2 Emissions: 0.08<br>GDP per capita: 1037.65<br>Population: 12251209.0<br>Continent: Africa",
          "Country: Burundi<br>CO2 Emissions: 0.03<br>GDP per capita: 446.4<br>Population: 7021078.0<br>Continent: Africa",
          "Country: Cameroon<br>CO2 Emissions: 0.2<br>GDP per capita: 1934.01<br>Population: 15929988.0<br>Continent: Africa",
          "Country: Central African Republic<br>CO2 Emissions: 0.06<br>GDP per capita: 738.69<br>Population: 4048013.0<br>Continent: Africa",
          "Country: Chad<br>CO2 Emissions: 0.02<br>GDP per capita: 1156.18<br>Population: 8835739.0<br>Continent: Africa",
          "Country: Comoros<br>CO2 Emissions: 0.15<br>GDP per capita: 1075.81<br>Population: 614382.0<br>Continent: Africa",
          "Country: Cote d'Ivoire<br>CO2 Emissions: 0.42<br>GDP per capita: 1648.8<br>Population: 16252726.0<br>Continent: Africa",
          "Country: Djibouti<br>CO2 Emissions: 0.54<br>GDP per capita: 1908.26<br>Population: 447416.0<br>Continent: Africa",
          "Country: Equatorial Guinea<br>CO2 Emissions: 8.77<br>GDP per capita: 7703.5<br>Population: 495627.0<br>Continent: Africa",
          "Country: Eritrea<br>CO2 Emissions: 0.16<br>GDP per capita: 765.35<br>Population: 4414865.0<br>Continent: Africa",
          "Country: Ethiopia<br>CO2 Emissions: 0.06<br>GDP per capita: 530.05<br>Population: 67946797.0<br>Continent: Africa",
          "Country: Gabon<br>CO2 Emissions: 3.55<br>GDP per capita: 12521.71<br>Population: 1299304.0<br>Continent: Africa",
          "Country: Ghana<br>CO2 Emissions: 0.38<br>GDP per capita: 1111.98<br>Population: 20550751.0<br>Continent: Africa",
          "Country: Guinea<br>CO2 Emissions: 0.15<br>GDP per capita: 945.58<br>Population: 8807818.0<br>Continent: Africa",
          "Country: Guinea-Bissau<br>CO2 Emissions: 0.11<br>GDP per capita: 575.7<br>Population: 1332459.0<br>Continent: Africa",
          "Country: Kenya<br>CO2 Emissions: 0.24<br>GDP per capita: 1287.51<br>Population: 31386842.0<br>Continent: Africa",
          "Country: Liberia<br>CO2 Emissions: 0.16<br>GDP per capita: 531.48<br>Population: 2814651.0<br>Continent: Africa",
          "Country: Libya<br>CO2 Emissions: 8.67<br>GDP per capita: 9534.68<br>Population: 5368585.0<br>Continent: Africa",
          "Country: Madagascar<br>CO2 Emissions: 0.07<br>GDP per capita: 894.64<br>Population: 16473477.0<br>Continent: Africa",
          "Country: Malawi<br>CO2 Emissions: 0.07<br>GDP per capita: 665.42<br>Population: 11824495.0<br>Continent: Africa",
          "Country: Mali<br>CO2 Emissions: 0.07<br>GDP per capita: 951.41<br>Population: 10580176.0<br>Continent: Africa",
          "Country: Mauritania<br>CO2 Emissions: 0.47<br>GDP per capita: 1579.02<br>Population: 2828858.0<br>Continent: Africa",
          "Country: Mauritius<br>CO2 Emissions: 2.4<br>GDP per capita: 9021.82<br>Population: 1200206.0<br>Continent: Africa",
          "Country: Morocco<br>CO2 Emissions: 1.3<br>GDP per capita: 3258.5<br>Population: 31167783.0<br>Continent: Africa",
          "Country: Mozambique<br>CO2 Emissions: 0.08<br>GDP per capita: 633.62<br>Population: 18473780.0<br>Continent: Africa",
          "Country: Namibia<br>CO2 Emissions: 0.9<br>GDP per capita: 4072.32<br>Population: 1972153.0<br>Continent: Africa",
          "Country: Niger<br>CO2 Emissions: 0.06<br>GDP per capita: 601.07<br>Population: 11140655.0<br>Continent: Africa",
          "Country: Nigeria<br>CO2 Emissions: 0.76<br>GDP per capita: 1615.29<br>Population: 119901274.0<br>Continent: Africa",
          "Country: Rwanda<br>CO2 Emissions: 0.06<br>GDP per capita: 785.65<br>Population: 7852401.0<br>Continent: Africa",
          "Country: Sao Tome and Principe<br>CO2 Emissions: 0.41<br>GDP per capita: 1353.09<br>Population: 170372.0<br>Continent: Africa",
          "Country: Senegal<br>CO2 Emissions: 0.43<br>GDP per capita: 1519.64<br>Population: 10870037.0<br>Continent: Africa",
          "Country: Sierra Leone<br>CO2 Emissions: 0.14<br>GDP per capita: 699.49<br>Population: 5359092.0<br>Continent: Africa",
          "Country: Somalia<br>CO2 Emissions: 0.07<br>GDP per capita: 882.08<br>Population: 7753310.0<br>Continent: Africa",
          "Country: South Africa<br>CO2 Emissions: 7.85<br>GDP per capita: 7710.95<br>Population: 44433622.0<br>Continent: Africa",
          "Country: Sudan<br>CO2 Emissions: 0.22<br>GDP per capita: 1993.4<br>Population: 37090298.0<br>Continent: Africa",
          "Country: Swaziland<br>CO2 Emissions: 1.04<br>GDP per capita: 4128.12<br>Population: 1130269.0<br>Continent: Africa",
          "Country: Tanzania<br>CO2 Emissions: 0.1<br>GDP per capita: 899.07<br>Population: 34593779.0<br>Continent: Africa",
          "Country: Togo<br>CO2 Emissions: 0.24<br>GDP per capita: 886.22<br>Population: 4977378.0<br>Continent: Africa",
          "Country: Tunisia<br>CO2 Emissions: 2.14<br>GDP per capita: 5722.9<br>Population: 9770575.0<br>Continent: Africa",
          "Country: Uganda<br>CO2 Emissions: 0.06<br>GDP per capita: 927.72<br>Population: 24739869.0<br>Continent: Africa",
          "Country: Zambia<br>CO2 Emissions: 0.18<br>GDP per capita: 1071.61<br>Population: 10595811.0<br>Continent: Africa",
          "Country: Zimbabwe<br>CO2 Emissions: 0.94<br>GDP per capita: 672.04<br>Population: 11926563.0<br>Continent: Africa"
         ],
         "type": "scatter",
         "x": [
          3.7232947629701716,
          3.4429948647284108,
          3.1376319237991015,
          4.041534995144169,
          3.0160488902182916,
          2.649727603261053,
          3.28645904069983,
          2.868462576561444,
          3.063026151197457,
          3.0317362058211357,
          3.2171681955495828,
          3.2806377442435712,
          3.8866878557609157,
          2.8838600873869096,
          2.724319732685239,
          4.097663777361201,
          3.0460987641022035,
          2.9756999238053794,
          2.7601997882865623,
          3.1097522070256196,
          2.7254888612379546,
          3.9793060065932173,
          2.9516468954698474,
          2.8230978853605677,
          2.9783675985566846,
          3.198387505159996,
          3.9552939603103834,
          3.5130171367645686,
          2.8018274697161716,
          3.6098424038924457,
          2.778928304706227,
          3.2082495351755087,
          2.8952311959563284,
          3.1313274515106237,
          3.1817393624783286,
          2.8447813319512396,
          2.945508872102442,
          3.887107686764354,
          3.2995940866023554,
          3.6157519916666896,
          2.9537955406109284,
          2.9475418293749702,
          3.757615827531517,
          2.9674173882915644,
          3.0300383536456925,
          2.8273942330887643
         ],
         "y": [
          0.45332260836551247,
          -0.10445410189685295,
          -0.552202192403832,
          0.34769581677194744,
          -1.0875251805417567,
          -1.527169144992161,
          -0.6910504849036401,
          -1.1961772888410565,
          -1.7272751878441002,
          -0.8154688389187812,
          -0.37265139866621544,
          -0.2706863544905965,
          0.9431193268053047,
          -0.7966761057133832,
          -1.1922441972905686,
          0.5498597615777532,
          -0.42588445601873115,
          -0.83790458810613,
          -0.9499100660867781,
          -0.6130705882774495,
          -0.7958178619910256,
          0.9379131663573929,
          -1.131711608896165,
          -1.125139105370518,
          -1.14111650492128,
          -0.32993771045601905,
          0.3794352124199114,
          0.11233282293898217,
          -1.085853321338669,
          -0.046204863469575815,
          -1.2365785034719556,
          -0.1196859648087305,
          -1.205729576301909,
          -0.3871632152269529,
          -0.3623768285565419,
          -0.8612148646634787,
          -1.1251757048592692,
          0.8947116200195824,
          -0.6563972322731243,
          0.01714376237921988,
          -0.9994619390477459,
          -0.6205172723496178,
          0.33039122811939875,
          -1.2113773747318084,
          -0.7493761580955595,
          -0.025582609218158896
         ]
        },
        {
         "marker": {
          "line": {
           "width": 2
          },
          "size": [
           6191.213209056848,
           2906.051272775482,
           13413.210353975666,
           5648.209273743316,
           3936.6287607545623,
           6403.7666259788075,
           1958.298751467712,
           3350.67142525196,
           2941.1429751033866,
           3594.611801015514,
           2520.6509079997572,
           3343.4488182115188,
           2758.1970560494765,
           2584.0526310429514,
           1632.3783262467068,
           10123.236982309561,
           2268.666568713878,
           1729.414640853951,
           2425.796982436906,
           5173.91882425691,
           1049.6818565641686,
           16961.000147396968,
           1833.8715876527451
          ],
          "sizemode": "area",
          "sizeref": 7.156535474655318
         },
         "mode": "markers",
         "name": "Americas",
         "text": [
          "Country: Argentina<br>CO2 Emissions: 3.29<br>GDP per capita: 8797.64<br>Population: 38331121.0<br>Continent: Americas",
          "Country: Bolivia<br>CO2 Emissions: 1.11<br>GDP per capita: 3413.26<br>Population: 8445134.0<br>Continent: Americas",
          "Country: Brazil<br>CO2 Emissions: 1.84<br>GDP per capita: 8131.21<br>Population: 179914212.0<br>Continent: Americas",
          "Country: Canada<br>CO2 Emissions: 16.56<br>GDP per capita: 33328.97<br>Population: 31902268.0<br>Continent: Americas",
          "Country: Chile<br>CO2 Emissions: 3.55<br>GDP per capita: 10778.78<br>Population: 15497046.0<br>Continent: Americas",
          "Country: Colombia<br>CO2 Emissions: 1.34<br>GDP per capita: 5755.26<br>Population: 41008227.0<br>Continent: Americas",
          "Country: Costa Rica<br>CO2 Emissions: 1.56<br>GDP per capita: 7723.45<br>Population: 3834934.0<br>Continent: Americas",
          "Country: Cuba<br>CO2 Emissions: 2.33<br>GDP per capita: 6340.65<br>Population: 11226999.0<br>Continent: Americas",
          "Country: Dominican Republic<br>CO2 Emissions: 2.42<br>GDP per capita: 4563.81<br>Population: 8650322.0<br>Continent: Americas",
          "Country: Ecuador<br>CO2 Emissions: 1.91<br>GDP per capita: 5773.04<br>Population: 12921234.0<br>Continent: Americas",
          "Country: El Salvador<br>CO2 Emissions: 1.03<br>GDP per capita: 5351.57<br>Population: 6353681.0<br>Continent: Americas",
          "Country: Guatemala<br>CO2 Emissions: 0.9<br>GDP per capita: 4858.35<br>Population: 11178650.0<br>Continent: Americas",
          "Country: Haiti<br>CO2 Emissions: 0.21<br>GDP per capita: 1270.36<br>Population: 7607651.0<br>Continent: Americas",
          "Country: Honduras<br>CO2 Emissions: 0.94<br>GDP per capita: 3099.73<br>Population: 6677328.0<br>Continent: Americas",
          "Country: Jamaica<br>CO2 Emissions: 3.92<br>GDP per capita: 6994.77<br>Population: 2664659.0<br>Continent: Americas",
          "Country: Mexico<br>CO2 Emissions: 3.71<br>GDP per capita: 10742.44<br>Population: 102479927.0<br>Continent: Americas",
          "Country: Nicaragua<br>CO2 Emissions: 0.78<br>GDP per capita: 2474.55<br>Population: 5146848.0<br>Continent: Americas",
          "Country: Panama<br>CO2 Emissions: 1.87<br>GDP per capita: 7356.03<br>Population: 2990875.0<br>Continent: Americas",
          "Country: Paraguay<br>CO2 Emissions: 0.71<br>GDP per capita: 3783.67<br>Population: 5884491.0<br>Continent: Americas",
          "Country: Peru<br>CO2 Emissions: 1.02<br>GDP per capita: 5909.02<br>Population: 26769436.0<br>Continent: Americas",
          "Country: Trinidad and Tobago<br>CO2 Emissions: 21.3<br>GDP per capita: 11460.6<br>Population: 1101832.0<br>Continent: Americas",
          "Country: United States<br>CO2 Emissions: 19.64<br>GDP per capita: 39097.1<br>Population: 287675526.0<br>Continent: Americas",
          "Country: Uruguay<br>CO2 Emissions: 1.39<br>GDP per capita: 7727.0<br>Population: 3363085.0<br>Continent: Americas"
         ],
         "type": "scatter",
         "x": [
          3.944366221991296,
          3.5331697135430002,
          3.910155329325562,
          4.522821828170987,
          4.0325697629816,
          3.7600649452572528,
          3.887811181633416,
          3.8021335538653216,
          3.6593273799595125,
          3.7614049060594232,
          3.728481102232665,
          3.686488574644437,
          3.103928496694248,
          3.4913236787948225,
          3.844773740529219,
          4.031102958114439,
          3.393496026186444,
          3.866643605928993,
          3.577913738576077,
          3.7715154652848497,
          4.059207363682899,
          4.592144540102953,
          3.8880110248794315
         ],
         "y": [
          0.5173993209895911,
          0.043601070501163804,
          0.2636990850515684,
          1.2190440158297966,
          0.5500670995644135,
          0.12674800206954362,
          0.19223095447202443,
          0.36786768733119096,
          0.3829368501708564,
          0.28073131521354155,
          0.012048313063924334,
          -0.04374287381820032,
          -0.6846534711798509,
          -0.028166061380089497,
          0.5928681367074917,
          0.5695554914723717,
          -0.10753811854618071,
          0.2711191543257423,
          -0.15019824588034605,
          0.009457969484563348,
          1.3284723945181913,
          1.2931236993690485,
          0.1425281528396496
         ]
        },
        {
         "marker": {
          "line": {
           "width": 2
          },
          "size": [
           5026.768842904953,
           810.1833125904285,
           11647.179486897247,
           3595.3729987304514,
           35782.67737327659,
           32158.55324793079,
           14527.904184706065,
           4899.164826784255,
           2455.509926675109,
           11272.348513065057,
           2303.7946957140084,
           1453.1211236507438,
           1917.7538945339154,
           4760.500498897149,
           1635.3085335801316,
           6752.635115271667,
           5086.641033137684,
           1647.2589353225558,
           12385.617626909043,
           9110.163994133147,
           4949.9020192323,
           2048.8474809023733,
           4424.565854408769,
           7925.070851418302,
           8994.89560806572,
           1841.0806609163
          ],
          "sizemode": "area",
          "sizeref": 7.156535474655318
         },
         "mode": "markers",
         "name": "Asia",
         "text": [
          "Country: Afghanistan<br>CO2 Emissions: 0.04<br>GDP per capita: 726.73<br>Population: 25268405.0<br>Continent: Asia",
          "Country: Bahrain<br>CO2 Emissions: 21.64<br>GDP per capita: 23403.56<br>Population: 656397.0<br>Continent: Asia",
          "Country: Bangladesh<br>CO2 Emissions: 0.25<br>GDP per capita: 1136.39<br>Population: 135656790.0<br>Continent: Asia",
          "Country: Cambodia<br>CO2 Emissions: 0.17<br>GDP per capita: 896.23<br>Population: 12926707.0<br>Continent: Asia",
          "Country: China<br>CO2 Emissions: 2.89<br>GDP per capita: 3119.28<br>Population: 1280400000.0<br>Continent: Asia",
          "Country: India<br>CO2 Emissions: 0.97<br>GDP per capita: 1746.77<br>Population: 1034172547.0<br>Continent: Asia",
          "Country: Indonesia<br>CO2 Emissions: 1.41<br>GDP per capita: 2873.91<br>Population: 211060000.0<br>Continent: Asia",
          "Country: Iraq<br>CO2 Emissions: 3.5<br>GDP per capita: 4390.72<br>Population: 24001816.0<br>Continent: Asia",
          "Country: Israel<br>CO2 Emissions: 9.1<br>GDP per capita: 21905.6<br>Population: 6029529.0<br>Continent: Asia",
          "Country: Japan<br>CO2 Emissions: 9.57<br>GDP per capita: 28604.59<br>Population: 127065841.0<br>Continent: Asia",
          "Country: Jordan<br>CO2 Emissions: 3.42<br>GDP per capita: 3844.92<br>Population: 5307470.0<br>Continent: Asia",
          "Country: Kuwait<br>CO2 Emissions: 28.51<br>GDP per capita: 35110.11<br>Population: 2111561.0<br>Continent: Asia",
          "Country: Lebanon<br>CO2 Emissions: 4.54<br>GDP per capita: 9313.94<br>Population: 3677780.0<br>Continent: Asia",
          "Country: Malaysia<br>CO2 Emissions: 5.48<br>GDP per capita: 10206.98<br>Population: 22662365.0<br>Continent: Asia",
          "Country: Mongolia<br>CO2 Emissions: 3.39<br>GDP per capita: 2140.74<br>Population: 2674234.0<br>Continent: Asia",
          "Country: Myanmar<br>CO2 Emissions: 0.19<br>GDP per capita: 611.0<br>Population: 45598081.0<br>Continent: Asia",
          "Country: Nepal<br>CO2 Emissions: 0.11<br>GDP per capita: 1057.21<br>Population: 25873917.0<br>Continent: Asia",
          "Country: Oman<br>CO2 Emissions: 10.96<br>GDP per capita: 19774.84<br>Population: 2713462.0<br>Continent: Asia",
          "Country: Pakistan<br>CO2 Emissions: 0.79<br>GDP per capita: 2092.71<br>Population: 153403524.0<br>Continent: Asia",
          "Country: Philippines<br>CO2 Emissions: 0.88<br>GDP per capita: 2650.92<br>Population: 82995088.0<br>Continent: Asia",
          "Country: Saudi Arabia<br>CO2 Emissions: 14.4<br>GDP per capita: 19014.54<br>Population: 24501530.0<br>Continent: Asia",
          "Country: Singapore<br>CO2 Emissions: 11.31<br>GDP per capita: 36023.11<br>Population: 4197776.0<br>Continent: Asia",
          "Country: Sri Lanka<br>CO2 Emissions: 0.58<br>GDP per capita: 3015.38<br>Population: 19576783.0<br>Continent: Asia",
          "Country: Thailand<br>CO2 Emissions: 3.25<br>GDP per capita: 5913.19<br>Population: 62806748.0<br>Continent: Asia",
          "Country: Vietnam<br>CO2 Emissions: 0.89<br>GDP per capita: 1764.46<br>Population: 80908147.0<br>Continent: Asia",
          "Country: West Bank and Gaza<br>CO2 Emissions: 0.38<br>GDP per capita: 4515.49<br>Population: 3389578.0<br>Continent: Asia"
         ],
         "type": "scatter",
         "x": [
          2.861375511734737,
          4.369281910990156,
          3.0555275676981246,
          2.952417546291209,
          3.49405448539833,
          3.2422355887477936,
          3.4584735972526914,
          3.6425354767785927,
          4.340555056761255,
          4.456435756092515,
          3.584886991061737,
          4.5454321364287775,
          3.9691333813441148,
          4.008897176145817,
          3.330563786642788,
          2.786041210242554,
          3.024159746991166,
          4.2961129095274355,
          3.3207095561615465,
          3.423396796672216,
          4.279085850368255,
          4.556581148793103,
          3.479341881897758,
          3.771821652298354,
          3.246610999521819,
          3.654704651592898
         ],
         "y": [
          -1.385849428037696,
          1.3352995414349624,
          -0.6065469087567749,
          -0.7592797997117066,
          0.46017969285474747,
          -0.014554689906250268,
          0.14956869028499442,
          0.5438523764146064,
          0.9592261281223041,
          0.9810539626363023,
          0.533907233928113,
          1.4550325969257851,
          0.6573024864325764,
          0.7388454757089209,
          0.5304064725402076,
          -0.7232817237332704,
          -0.970242845651111,
          1.0399585291014413,
          -0.10195592527751511,
          -0.05674069103127177,
          1.1583443110408342,
          1.0534714829082976,
          -0.2337588176106103,
          0.5116292985642689,
          -0.050502335786312906,
          -0.42527633343988297
         ]
        },
        {
         "marker": {
          "line": {
           "width": 2
          },
          "size": [
           1873.1022396014587,
           2854.524829109041,
           3211.2256227179055,
           2040.9350798102325,
           2767.9954841003623,
           2116.841987489855,
           3202.5450816499056,
           2318.3384136057443,
           2278.8240388410863,
           7741.126210054968,
           9074.727048236768,
           3256.3573206882566,
           3175.423278871653,
           536.6842647218194,
           1969.5570568023663,
           7610.97884637712,
           4015.3243953633437,
           2129.692700837377,
           6214.979967787507,
           3230.149686934028,
           4733.321983554468,
           2325.951848168831,
           1418.2725408044817,
           6336.601376132161,
           2992.352753269574,
           2713.2557933228486,
           8204.201850271604,
           7740.3120738120115
          ],
          "sizemode": "area",
          "sizeref": 7.156535474655318
         },
         "mode": "markers",
         "name": "Europe",
         "text": [
          "Country: Albania<br>CO2 Emissions: 1.23<br>GDP per capita: 4604.21<br>Population: 3508512.0<br>Continent: Europe",
          "Country: Austria<br>CO2 Emissions: 8.28<br>GDP per capita: 32417.61<br>Population: 8148312.0<br>Continent: Europe",
          "Country: Belgium<br>CO2 Emissions: 10.39<br>GDP per capita: 30485.88<br>Population: 10311970.0<br>Continent: Europe",
          "Country: Bosnia and Herzegovina<br>CO2 Emissions: 3.76<br>GDP per capita: 6018.98<br>Population: 4165416.0<br>Continent: Europe",
          "Country: Bulgaria<br>CO2 Emissions: 5.67<br>GDP per capita: 7696.78<br>Population: 7661799.0<br>Continent: Europe",
          "Country: Croatia<br>CO2 Emissions: 4.86<br>GDP per capita: 11628.39<br>Population: 4481020.0<br>Continent: Europe",
          "Country: Czech Republic<br>CO2 Emissions: 11.74<br>GDP per capita: 17596.21<br>Population: 10256295.0<br>Continent: Europe",
          "Country: Denmark<br>CO2 Emissions: 9.68<br>GDP per capita: 32166.5<br>Population: 5374693.0<br>Continent: Europe",
          "Country: Finland<br>CO2 Emissions: 11.86<br>GDP per capita: 28204.59<br>Population: 5193039.0<br>Continent: Europe",
          "Country: France<br>CO2 Emissions: 6.07<br>GDP per capita: 28926.03<br>Population: 59925035.0<br>Continent: Europe",
          "Country: Germany<br>CO2 Emissions: 10.06<br>GDP per capita: 30035.8<br>Population: 82350671.0<br>Continent: Europe",
          "Country: Greece<br>CO2 Emissions: 8.59<br>GDP per capita: 22514.25<br>Population: 10603863.0<br>Continent: Europe",
          "Country: Hungary<br>CO2 Emissions: 5.52<br>GDP per capita: 14843.94<br>Population: 10083313.0<br>Continent: Europe",
          "Country: Iceland<br>CO2 Emissions: 7.55<br>GDP per capita: 31163.2<br>Population: 288030.0<br>Continent: Europe",
          "Country: Ireland<br>CO2 Emissions: 11.04<br>GDP per capita: 34077.05<br>Population: 3879155.0<br>Continent: Europe",
          "Country: Italy<br>CO2 Emissions: 7.93<br>GDP per capita: 27968.1<br>Population: 57926999.0<br>Continent: Europe",
          "Country: Netherlands<br>CO2 Emissions: 10.65<br>GDP per capita: 33724.76<br>Population: 16122830.0<br>Continent: Europe",
          "Country: Norway<br>CO2 Emissions: 8.38<br>GDP per capita: 44683.98<br>Population: 4535591.0<br>Continent: Europe",
          "Country: Poland<br>CO2 Emissions: 7.71<br>GDP per capita: 12002.24<br>Population: 38625976.0<br>Continent: Europe",
          "Country: Portugal<br>CO2 Emissions: 6.41<br>GDP per capita: 19970.91<br>Population: 10433867.0<br>Continent: Europe",
          "Country: Romania<br>CO2 Emissions: 4.47<br>GDP per capita: 7885.36<br>Population: 22404337.0<br>Continent: Europe",
          "Country: Slovak Republic<br>CO2 Emissions: 7.3<br>GDP per capita: 13638.78<br>Population: 5410052.0<br>Continent: Europe",
          "Country: Slovenia<br>CO2 Emissions: 7.73<br>GDP per capita: 20660.02<br>Population: 2011497.0<br>Continent: Europe",
          "Country: Spain<br>CO2 Emissions: 7.59<br>GDP per capita: 24835.47<br>Population: 40152517.0<br>Continent: Europe",
          "Country: Sweden<br>CO2 Emissions: 6.43<br>GDP per capita: 29341.63<br>Population: 8954175.0<br>Continent: Europe",
          "Country: Switzerland<br>CO2 Emissions: 5.59<br>GDP per capita: 34480.96<br>Population: 7361757.0<br>Continent: Europe",
          "Country: Turkey<br>CO2 Emissions: 3.16<br>GDP per capita: 6508.09<br>Population: 67308928.0<br>Continent: Europe",
          "Country: United Kingdom<br>CO2 Emissions: 8.9<br>GDP per capita: 29479.0<br>Population: 59912431.0<br>Continent: Europe"
         ],
         "type": "scatter",
         "x": [
          3.6631552876111546,
          4.510780962228499,
          4.484098789227883,
          3.779522556717748,
          3.8863089447639965,
          4.065519549759354,
          4.245419141804519,
          4.507403809197911,
          4.450319799701181,
          4.461288867418601,
          4.477639232449136,
          4.35245757681066,
          4.1715490603360585,
          4.49364207422891,
          4.532461983714468,
          4.4466629353612905,
          4.527948839138985,
          4.650151802589099,
          4.079262273495782,
          4.300397808184131,
          3.8968215299567097,
          4.134775472158593,
          4.315130724150554,
          4.395072412263202,
          4.467484250073514,
          4.53757931986706,
          3.813453264395313,
          4.4695127351694275
         ],
         "y": [
          0.08974291258306684,
          0.9179858465590095,
          1.0164272052175058,
          0.5746390044497166,
          0.7537826707048112,
          0.6870432346334143,
          1.0698050556405674,
          0.9859620249356915,
          1.074109436151124,
          0.7829105116217587,
          1.0025406680817874,
          0.9340927614040876,
          0.7420829745400194,
          0.8779600254887054,
          1.0430182753171513,
          0.8994003924542908,
          1.027451133455215,
          0.9231680765797505,
          0.8871693288647851,
          0.8068639030355367,
          0.6507656593458898,
          0.863324081630271,
          0.8882363371165048,
          0.8803150551426167,
          0.8084964866418068,
          0.7471407994602035,
          0.49945124826775755,
          0.9495911559063
         ]
        },
        {
         "marker": {
          "line": {
           "width": 2
          },
          "size": [
           4421.175409322729,
           1976.8755651279623
          ],
          "sizemode": "area",
          "sizeref": 7.156535474655318
         },
         "mode": "markers",
         "name": "Oceania",
         "text": [
          "Country: Australia<br>CO2 Emissions: 17.37<br>GDP per capita: 30687.75<br>Population: 19546792.0<br>Continent: Oceania",
          "Country: New Zealand<br>CO2 Emissions: 8.41<br>GDP per capita: 23189.8<br>Population: 3908037.0<br>Continent: Oceania"
         ],
         "type": "scatter",
         "x": [
          4.486965114432396,
          4.365297028371995
         ],
         "y": [
          1.2398111138171342,
          0.9247192577709709
         ]
        }
       ],
       "layout": {
        "paper_bgcolor": "rgb(243, 243, 243)",
        "plot_bgcolor": "rgb(243, 243, 243)",
        "template": {
         "data": {
          "bar": [
           {
            "error_x": {
             "color": "#2a3f5f"
            },
            "error_y": {
             "color": "#2a3f5f"
            },
            "marker": {
             "line": {
              "color": "#E5ECF6",
              "width": 0.5
             }
            },
            "type": "bar"
           }
          ],
          "barpolar": [
           {
            "marker": {
             "line": {
              "color": "#E5ECF6",
              "width": 0.5
             }
            },
            "type": "barpolar"
           }
          ],
          "carpet": [
           {
            "aaxis": {
             "endlinecolor": "#2a3f5f",
             "gridcolor": "white",
             "linecolor": "white",
             "minorgridcolor": "white",
             "startlinecolor": "#2a3f5f"
            },
            "baxis": {
             "endlinecolor": "#2a3f5f",
             "gridcolor": "white",
             "linecolor": "white",
             "minorgridcolor": "white",
             "startlinecolor": "#2a3f5f"
            },
            "type": "carpet"
           }
          ],
          "choropleth": [
           {
            "colorbar": {
             "outlinewidth": 0,
             "ticks": ""
            },
            "type": "choropleth"
           }
          ],
          "contour": [
           {
            "colorbar": {
             "outlinewidth": 0,
             "ticks": ""
            },
            "colorscale": [
             [
              0,
              "#0d0887"
             ],
             [
              0.1111111111111111,
              "#46039f"
             ],
             [
              0.2222222222222222,
              "#7201a8"
             ],
             [
              0.3333333333333333,
              "#9c179e"
             ],
             [
              0.4444444444444444,
              "#bd3786"
             ],
             [
              0.5555555555555556,
              "#d8576b"
             ],
             [
              0.6666666666666666,
              "#ed7953"
             ],
             [
              0.7777777777777778,
              "#fb9f3a"
             ],
             [
              0.8888888888888888,
              "#fdca26"
             ],
             [
              1,
              "#f0f921"
             ]
            ],
            "type": "contour"
           }
          ],
          "contourcarpet": [
           {
            "colorbar": {
             "outlinewidth": 0,
             "ticks": ""
            },
            "type": "contourcarpet"
           }
          ],
          "heatmap": [
           {
            "colorbar": {
             "outlinewidth": 0,
             "ticks": ""
            },
            "colorscale": [
             [
              0,
              "#0d0887"
             ],
             [
              0.1111111111111111,
              "#46039f"
             ],
             [
              0.2222222222222222,
              "#7201a8"
             ],
             [
              0.3333333333333333,
              "#9c179e"
             ],
             [
              0.4444444444444444,
              "#bd3786"
             ],
             [
              0.5555555555555556,
              "#d8576b"
             ],
             [
              0.6666666666666666,
              "#ed7953"
             ],
             [
              0.7777777777777778,
              "#fb9f3a"
             ],
             [
              0.8888888888888888,
              "#fdca26"
             ],
             [
              1,
              "#f0f921"
             ]
            ],
            "type": "heatmap"
           }
          ],
          "heatmapgl": [
           {
            "colorbar": {
             "outlinewidth": 0,
             "ticks": ""
            },
            "colorscale": [
             [
              0,
              "#0d0887"
             ],
             [
              0.1111111111111111,
              "#46039f"
             ],
             [
              0.2222222222222222,
              "#7201a8"
             ],
             [
              0.3333333333333333,
              "#9c179e"
             ],
             [
              0.4444444444444444,
              "#bd3786"
             ],
             [
              0.5555555555555556,
              "#d8576b"
             ],
             [
              0.6666666666666666,
              "#ed7953"
             ],
             [
              0.7777777777777778,
              "#fb9f3a"
             ],
             [
              0.8888888888888888,
              "#fdca26"
             ],
             [
              1,
              "#f0f921"
             ]
            ],
            "type": "heatmapgl"
           }
          ],
          "histogram": [
           {
            "marker": {
             "colorbar": {
              "outlinewidth": 0,
              "ticks": ""
             }
            },
            "type": "histogram"
           }
          ],
          "histogram2d": [
           {
            "colorbar": {
             "outlinewidth": 0,
             "ticks": ""
            },
            "colorscale": [
             [
              0,
              "#0d0887"
             ],
             [
              0.1111111111111111,
              "#46039f"
             ],
             [
              0.2222222222222222,
              "#7201a8"
             ],
             [
              0.3333333333333333,
              "#9c179e"
             ],
             [
              0.4444444444444444,
              "#bd3786"
             ],
             [
              0.5555555555555556,
              "#d8576b"
             ],
             [
              0.6666666666666666,
              "#ed7953"
             ],
             [
              0.7777777777777778,
              "#fb9f3a"
             ],
             [
              0.8888888888888888,
              "#fdca26"
             ],
             [
              1,
              "#f0f921"
             ]
            ],
            "type": "histogram2d"
           }
          ],
          "histogram2dcontour": [
           {
            "colorbar": {
             "outlinewidth": 0,
             "ticks": ""
            },
            "colorscale": [
             [
              0,
              "#0d0887"
             ],
             [
              0.1111111111111111,
              "#46039f"
             ],
             [
              0.2222222222222222,
              "#7201a8"
             ],
             [
              0.3333333333333333,
              "#9c179e"
             ],
             [
              0.4444444444444444,
              "#bd3786"
             ],
             [
              0.5555555555555556,
              "#d8576b"
             ],
             [
              0.6666666666666666,
              "#ed7953"
             ],
             [
              0.7777777777777778,
              "#fb9f3a"
             ],
             [
              0.8888888888888888,
              "#fdca26"
             ],
             [
              1,
              "#f0f921"
             ]
            ],
            "type": "histogram2dcontour"
           }
          ],
          "mesh3d": [
           {
            "colorbar": {
             "outlinewidth": 0,
             "ticks": ""
            },
            "type": "mesh3d"
           }
          ],
          "parcoords": [
           {
            "line": {
             "colorbar": {
              "outlinewidth": 0,
              "ticks": ""
             }
            },
            "type": "parcoords"
           }
          ],
          "pie": [
           {
            "automargin": true,
            "type": "pie"
           }
          ],
          "scatter": [
           {
            "marker": {
             "colorbar": {
              "outlinewidth": 0,
              "ticks": ""
             }
            },
            "type": "scatter"
           }
          ],
          "scatter3d": [
           {
            "line": {
             "colorbar": {
              "outlinewidth": 0,
              "ticks": ""
             }
            },
            "marker": {
             "colorbar": {
              "outlinewidth": 0,
              "ticks": ""
             }
            },
            "type": "scatter3d"
           }
          ],
          "scattercarpet": [
           {
            "marker": {
             "colorbar": {
              "outlinewidth": 0,
              "ticks": ""
             }
            },
            "type": "scattercarpet"
           }
          ],
          "scattergeo": [
           {
            "marker": {
             "colorbar": {
              "outlinewidth": 0,
              "ticks": ""
             }
            },
            "type": "scattergeo"
           }
          ],
          "scattergl": [
           {
            "marker": {
             "colorbar": {
              "outlinewidth": 0,
              "ticks": ""
             }
            },
            "type": "scattergl"
           }
          ],
          "scattermapbox": [
           {
            "marker": {
             "colorbar": {
              "outlinewidth": 0,
              "ticks": ""
             }
            },
            "type": "scattermapbox"
           }
          ],
          "scatterpolar": [
           {
            "marker": {
             "colorbar": {
              "outlinewidth": 0,
              "ticks": ""
             }
            },
            "type": "scatterpolar"
           }
          ],
          "scatterpolargl": [
           {
            "marker": {
             "colorbar": {
              "outlinewidth": 0,
              "ticks": ""
             }
            },
            "type": "scatterpolargl"
           }
          ],
          "scatterternary": [
           {
            "marker": {
             "colorbar": {
              "outlinewidth": 0,
              "ticks": ""
             }
            },
            "type": "scatterternary"
           }
          ],
          "surface": [
           {
            "colorbar": {
             "outlinewidth": 0,
             "ticks": ""
            },
            "colorscale": [
             [
              0,
              "#0d0887"
             ],
             [
              0.1111111111111111,
              "#46039f"
             ],
             [
              0.2222222222222222,
              "#7201a8"
             ],
             [
              0.3333333333333333,
              "#9c179e"
             ],
             [
              0.4444444444444444,
              "#bd3786"
             ],
             [
              0.5555555555555556,
              "#d8576b"
             ],
             [
              0.6666666666666666,
              "#ed7953"
             ],
             [
              0.7777777777777778,
              "#fb9f3a"
             ],
             [
              0.8888888888888888,
              "#fdca26"
             ],
             [
              1,
              "#f0f921"
             ]
            ],
            "type": "surface"
           }
          ],
          "table": [
           {
            "cells": {
             "fill": {
              "color": "#EBF0F8"
             },
             "line": {
              "color": "white"
             }
            },
            "header": {
             "fill": {
              "color": "#C8D4E3"
             },
             "line": {
              "color": "white"
             }
            },
            "type": "table"
           }
          ]
         },
         "layout": {
          "annotationdefaults": {
           "arrowcolor": "#2a3f5f",
           "arrowhead": 0,
           "arrowwidth": 1
          },
          "autotypenumbers": "strict",
          "coloraxis": {
           "colorbar": {
            "outlinewidth": 0,
            "ticks": ""
           }
          },
          "colorscale": {
           "diverging": [
            [
             0,
             "#8e0152"
            ],
            [
             0.1,
             "#c51b7d"
            ],
            [
             0.2,
             "#de77ae"
            ],
            [
             0.3,
             "#f1b6da"
            ],
            [
             0.4,
             "#fde0ef"
            ],
            [
             0.5,
             "#f7f7f7"
            ],
            [
             0.6,
             "#e6f5d0"
            ],
            [
             0.7,
             "#b8e186"
            ],
            [
             0.8,
             "#7fbc41"
            ],
            [
             0.9,
             "#4d9221"
            ],
            [
             1,
             "#276419"
            ]
           ],
           "sequential": [
            [
             0,
             "#0d0887"
            ],
            [
             0.1111111111111111,
             "#46039f"
            ],
            [
             0.2222222222222222,
             "#7201a8"
            ],
            [
             0.3333333333333333,
             "#9c179e"
            ],
            [
             0.4444444444444444,
             "#bd3786"
            ],
            [
             0.5555555555555556,
             "#d8576b"
            ],
            [
             0.6666666666666666,
             "#ed7953"
            ],
            [
             0.7777777777777778,
             "#fb9f3a"
            ],
            [
             0.8888888888888888,
             "#fdca26"
            ],
            [
             1,
             "#f0f921"
            ]
           ],
           "sequentialminus": [
            [
             0,
             "#0d0887"
            ],
            [
             0.1111111111111111,
             "#46039f"
            ],
            [
             0.2222222222222222,
             "#7201a8"
            ],
            [
             0.3333333333333333,
             "#9c179e"
            ],
            [
             0.4444444444444444,
             "#bd3786"
            ],
            [
             0.5555555555555556,
             "#d8576b"
            ],
            [
             0.6666666666666666,
             "#ed7953"
            ],
            [
             0.7777777777777778,
             "#fb9f3a"
            ],
            [
             0.8888888888888888,
             "#fdca26"
            ],
            [
             1,
             "#f0f921"
            ]
           ]
          },
          "colorway": [
           "#636efa",
           "#EF553B",
           "#00cc96",
           "#ab63fa",
           "#FFA15A",
           "#19d3f3",
           "#FF6692",
           "#B6E880",
           "#FF97FF",
           "#FECB52"
          ],
          "font": {
           "color": "#2a3f5f"
          },
          "geo": {
           "bgcolor": "white",
           "lakecolor": "white",
           "landcolor": "#E5ECF6",
           "showlakes": true,
           "showland": true,
           "subunitcolor": "white"
          },
          "hoverlabel": {
           "align": "left"
          },
          "hovermode": "closest",
          "mapbox": {
           "style": "light"
          },
          "paper_bgcolor": "white",
          "plot_bgcolor": "#E5ECF6",
          "polar": {
           "angularaxis": {
            "gridcolor": "white",
            "linecolor": "white",
            "ticks": ""
           },
           "bgcolor": "#E5ECF6",
           "radialaxis": {
            "gridcolor": "white",
            "linecolor": "white",
            "ticks": ""
           }
          },
          "scene": {
           "xaxis": {
            "backgroundcolor": "#E5ECF6",
            "gridcolor": "white",
            "gridwidth": 2,
            "linecolor": "white",
            "showbackground": true,
            "ticks": "",
            "zerolinecolor": "white"
           },
           "yaxis": {
            "backgroundcolor": "#E5ECF6",
            "gridcolor": "white",
            "gridwidth": 2,
            "linecolor": "white",
            "showbackground": true,
            "ticks": "",
            "zerolinecolor": "white"
           },
           "zaxis": {
            "backgroundcolor": "#E5ECF6",
            "gridcolor": "white",
            "gridwidth": 2,
            "linecolor": "white",
            "showbackground": true,
            "ticks": "",
            "zerolinecolor": "white"
           }
          },
          "shapedefaults": {
           "line": {
            "color": "#2a3f5f"
           }
          },
          "ternary": {
           "aaxis": {
            "gridcolor": "white",
            "linecolor": "white",
            "ticks": ""
           },
           "baxis": {
            "gridcolor": "white",
            "linecolor": "white",
            "ticks": ""
           },
           "bgcolor": "#E5ECF6",
           "caxis": {
            "gridcolor": "white",
            "linecolor": "white",
            "ticks": ""
           }
          },
          "title": {
           "x": 0.05
          },
          "xaxis": {
           "automargin": true,
           "gridcolor": "white",
           "linecolor": "white",
           "ticks": "",
           "title": {
            "standoff": 15
           },
           "zerolinecolor": "white",
           "zerolinewidth": 2
          },
          "yaxis": {
           "automargin": true,
           "gridcolor": "white",
           "linecolor": "white",
           "ticks": "",
           "title": {
            "standoff": 15
           },
           "zerolinecolor": "white",
           "zerolinewidth": 2
          }
         }
        },
        "title": {
         "text": "GDP per Capita vs. CO2 Emissions per Capita in 2002"
        },
        "xaxis": {
         "gridcolor": "white",
         "gridwidth": 2,
         "title": {
          "text": "GDP per capita ($)"
         }
        },
        "yaxis": {
         "gridcolor": "white",
         "gridwidth": 2,
         "title": {
          "text": "CO2 Emissions (Metric Tons per Capita)"
         }
        }
       }
      },
      "text/html": [
       "<div>                            <div id=\"33f0a07a-1b36-4e88-9637-0acf816f7ac7\" class=\"plotly-graph-div\" style=\"height:525px; width:100%;\"></div>            <script type=\"text/javascript\">                require([\"plotly\"], function(Plotly) {                    window.PLOTLYENV=window.PLOTLYENV || {};                                    if (document.getElementById(\"33f0a07a-1b36-4e88-9637-0acf816f7ac7\")) {                    Plotly.newPlot(                        \"33f0a07a-1b36-4e88-9637-0acf816f7ac7\",                        [{\"marker\": {\"line\": {\"width\": 2}, \"size\": [5593.491038698462, 3296.3777089405276, 2650.6816104541867, 1276.8504219367278, 3500.172710024464, 2649.7316845295863, 3991.238905402682, 2011.9674450646562, 2972.497098400602, 783.82523562335, 4031.4669786567765, 668.8916205186009, 704.0078124566517, 2101.158014048444, 8242.984714288872, 1139.8701680454665, 4533.293615022085, 2967.796825929969, 1154.3218788535544, 5602.396094529554, 1677.6921648502744, 2317.0207163510645, 4058.753133660632, 3438.676344176637, 3252.7182478659292, 1681.9209256085733, 1095.5391366811136, 5582.811388538932, 4298.113539682264, 1404.333649814032, 3337.7619747369645, 10949.944018121736, 2802.2135892897245, 412.7614323068472, 3296.973915577738, 2314.9712741198323, 2784.476611501702, 6665.854933915079, 6090.180457096489, 1063.1411007011252, 5881.647643305403, 2231.0038099474414, 3125.791899663188, 4973.91887750494, 3255.1207350880245, 3453.4856304898676], \"sizemode\": \"area\", \"sizeref\": 7.156535474655318}, \"mode\": \"markers\", \"name\": \"Africa\", \"text\": [\"Country: Algeria<br>CO2 Emissions: 2.84<br>GDP per capita: 5288.04<br>Population: 31287142.0<br>Continent: Africa\", \"Country: Angola<br>CO2 Emissions: 0.79<br>GDP per capita: 2773.29<br>Population: 10866106.0<br>Continent: Africa\", \"Country: Benin<br>CO2 Emissions: 0.28<br>GDP per capita: 1372.88<br>Population: 7026113.0<br>Continent: Africa\", \"Country: Botswana<br>CO2 Emissions: 2.23<br>GDP per capita: 11003.61<br>Population: 1630347.0<br>Continent: Africa\", \"Country: Burkina Faso<br>CO2 Emissions: 0.08<br>GDP per capita: 1037.65<br>Population: 12251209.0<br>Continent: Africa\", \"Country: Burundi<br>CO2 Emissions: 0.03<br>GDP per capita: 446.4<br>Population: 7021078.0<br>Continent: Africa\", \"Country: Cameroon<br>CO2 Emissions: 0.2<br>GDP per capita: 1934.01<br>Population: 15929988.0<br>Continent: Africa\", \"Country: Central African Republic<br>CO2 Emissions: 0.06<br>GDP per capita: 738.69<br>Population: 4048013.0<br>Continent: Africa\", \"Country: Chad<br>CO2 Emissions: 0.02<br>GDP per capita: 1156.18<br>Population: 8835739.0<br>Continent: Africa\", \"Country: Comoros<br>CO2 Emissions: 0.15<br>GDP per capita: 1075.81<br>Population: 614382.0<br>Continent: Africa\", \"Country: Cote d'Ivoire<br>CO2 Emissions: 0.42<br>GDP per capita: 1648.8<br>Population: 16252726.0<br>Continent: Africa\", \"Country: Djibouti<br>CO2 Emissions: 0.54<br>GDP per capita: 1908.26<br>Population: 447416.0<br>Continent: Africa\", \"Country: Equatorial Guinea<br>CO2 Emissions: 8.77<br>GDP per capita: 7703.5<br>Population: 495627.0<br>Continent: Africa\", \"Country: Eritrea<br>CO2 Emissions: 0.16<br>GDP per capita: 765.35<br>Population: 4414865.0<br>Continent: Africa\", \"Country: Ethiopia<br>CO2 Emissions: 0.06<br>GDP per capita: 530.05<br>Population: 67946797.0<br>Continent: Africa\", \"Country: Gabon<br>CO2 Emissions: 3.55<br>GDP per capita: 12521.71<br>Population: 1299304.0<br>Continent: Africa\", \"Country: Ghana<br>CO2 Emissions: 0.38<br>GDP per capita: 1111.98<br>Population: 20550751.0<br>Continent: Africa\", \"Country: Guinea<br>CO2 Emissions: 0.15<br>GDP per capita: 945.58<br>Population: 8807818.0<br>Continent: Africa\", \"Country: Guinea-Bissau<br>CO2 Emissions: 0.11<br>GDP per capita: 575.7<br>Population: 1332459.0<br>Continent: Africa\", \"Country: Kenya<br>CO2 Emissions: 0.24<br>GDP per capita: 1287.51<br>Population: 31386842.0<br>Continent: Africa\", \"Country: Liberia<br>CO2 Emissions: 0.16<br>GDP per capita: 531.48<br>Population: 2814651.0<br>Continent: Africa\", \"Country: Libya<br>CO2 Emissions: 8.67<br>GDP per capita: 9534.68<br>Population: 5368585.0<br>Continent: Africa\", \"Country: Madagascar<br>CO2 Emissions: 0.07<br>GDP per capita: 894.64<br>Population: 16473477.0<br>Continent: Africa\", \"Country: Malawi<br>CO2 Emissions: 0.07<br>GDP per capita: 665.42<br>Population: 11824495.0<br>Continent: Africa\", \"Country: Mali<br>CO2 Emissions: 0.07<br>GDP per capita: 951.41<br>Population: 10580176.0<br>Continent: Africa\", \"Country: Mauritania<br>CO2 Emissions: 0.47<br>GDP per capita: 1579.02<br>Population: 2828858.0<br>Continent: Africa\", \"Country: Mauritius<br>CO2 Emissions: 2.4<br>GDP per capita: 9021.82<br>Population: 1200206.0<br>Continent: Africa\", \"Country: Morocco<br>CO2 Emissions: 1.3<br>GDP per capita: 3258.5<br>Population: 31167783.0<br>Continent: Africa\", \"Country: Mozambique<br>CO2 Emissions: 0.08<br>GDP per capita: 633.62<br>Population: 18473780.0<br>Continent: Africa\", \"Country: Namibia<br>CO2 Emissions: 0.9<br>GDP per capita: 4072.32<br>Population: 1972153.0<br>Continent: Africa\", \"Country: Niger<br>CO2 Emissions: 0.06<br>GDP per capita: 601.07<br>Population: 11140655.0<br>Continent: Africa\", \"Country: Nigeria<br>CO2 Emissions: 0.76<br>GDP per capita: 1615.29<br>Population: 119901274.0<br>Continent: Africa\", \"Country: Rwanda<br>CO2 Emissions: 0.06<br>GDP per capita: 785.65<br>Population: 7852401.0<br>Continent: Africa\", \"Country: Sao Tome and Principe<br>CO2 Emissions: 0.41<br>GDP per capita: 1353.09<br>Population: 170372.0<br>Continent: Africa\", \"Country: Senegal<br>CO2 Emissions: 0.43<br>GDP per capita: 1519.64<br>Population: 10870037.0<br>Continent: Africa\", \"Country: Sierra Leone<br>CO2 Emissions: 0.14<br>GDP per capita: 699.49<br>Population: 5359092.0<br>Continent: Africa\", \"Country: Somalia<br>CO2 Emissions: 0.07<br>GDP per capita: 882.08<br>Population: 7753310.0<br>Continent: Africa\", \"Country: South Africa<br>CO2 Emissions: 7.85<br>GDP per capita: 7710.95<br>Population: 44433622.0<br>Continent: Africa\", \"Country: Sudan<br>CO2 Emissions: 0.22<br>GDP per capita: 1993.4<br>Population: 37090298.0<br>Continent: Africa\", \"Country: Swaziland<br>CO2 Emissions: 1.04<br>GDP per capita: 4128.12<br>Population: 1130269.0<br>Continent: Africa\", \"Country: Tanzania<br>CO2 Emissions: 0.1<br>GDP per capita: 899.07<br>Population: 34593779.0<br>Continent: Africa\", \"Country: Togo<br>CO2 Emissions: 0.24<br>GDP per capita: 886.22<br>Population: 4977378.0<br>Continent: Africa\", \"Country: Tunisia<br>CO2 Emissions: 2.14<br>GDP per capita: 5722.9<br>Population: 9770575.0<br>Continent: Africa\", \"Country: Uganda<br>CO2 Emissions: 0.06<br>GDP per capita: 927.72<br>Population: 24739869.0<br>Continent: Africa\", \"Country: Zambia<br>CO2 Emissions: 0.18<br>GDP per capita: 1071.61<br>Population: 10595811.0<br>Continent: Africa\", \"Country: Zimbabwe<br>CO2 Emissions: 0.94<br>GDP per capita: 672.04<br>Population: 11926563.0<br>Continent: Africa\"], \"type\": \"scatter\", \"x\": [3.7232947629701716, 3.4429948647284108, 3.1376319237991015, 4.041534995144169, 3.0160488902182916, 2.649727603261053, 3.28645904069983, 2.868462576561444, 3.063026151197457, 3.0317362058211357, 3.2171681955495828, 3.2806377442435712, 3.8866878557609157, 2.8838600873869096, 2.724319732685239, 4.097663777361201, 3.0460987641022035, 2.9756999238053794, 2.7601997882865623, 3.1097522070256196, 2.7254888612379546, 3.9793060065932173, 2.9516468954698474, 2.8230978853605677, 2.9783675985566846, 3.198387505159996, 3.9552939603103834, 3.5130171367645686, 2.8018274697161716, 3.6098424038924457, 2.778928304706227, 3.2082495351755087, 2.8952311959563284, 3.1313274515106237, 3.1817393624783286, 2.8447813319512396, 2.945508872102442, 3.887107686764354, 3.2995940866023554, 3.6157519916666896, 2.9537955406109284, 2.9475418293749702, 3.757615827531517, 2.9674173882915644, 3.0300383536456925, 2.8273942330887643], \"y\": [0.45332260836551247, -0.10445410189685295, -0.552202192403832, 0.34769581677194744, -1.0875251805417567, -1.527169144992161, -0.6910504849036401, -1.1961772888410565, -1.7272751878441002, -0.8154688389187812, -0.37265139866621544, -0.2706863544905965, 0.9431193268053047, -0.7966761057133832, -1.1922441972905686, 0.5498597615777532, -0.42588445601873115, -0.83790458810613, -0.9499100660867781, -0.6130705882774495, -0.7958178619910256, 0.9379131663573929, -1.131711608896165, -1.125139105370518, -1.14111650492128, -0.32993771045601905, 0.3794352124199114, 0.11233282293898217, -1.085853321338669, -0.046204863469575815, -1.2365785034719556, -0.1196859648087305, -1.205729576301909, -0.3871632152269529, -0.3623768285565419, -0.8612148646634787, -1.1251757048592692, 0.8947116200195824, -0.6563972322731243, 0.01714376237921988, -0.9994619390477459, -0.6205172723496178, 0.33039122811939875, -1.2113773747318084, -0.7493761580955595, -0.025582609218158896]}, {\"marker\": {\"line\": {\"width\": 2}, \"size\": [6191.213209056848, 2906.051272775482, 13413.210353975666, 5648.209273743316, 3936.6287607545623, 6403.7666259788075, 1958.298751467712, 3350.67142525196, 2941.1429751033866, 3594.611801015514, 2520.6509079997572, 3343.4488182115188, 2758.1970560494765, 2584.0526310429514, 1632.3783262467068, 10123.236982309561, 2268.666568713878, 1729.414640853951, 2425.796982436906, 5173.91882425691, 1049.6818565641686, 16961.000147396968, 1833.8715876527451], \"sizemode\": \"area\", \"sizeref\": 7.156535474655318}, \"mode\": \"markers\", \"name\": \"Americas\", \"text\": [\"Country: Argentina<br>CO2 Emissions: 3.29<br>GDP per capita: 8797.64<br>Population: 38331121.0<br>Continent: Americas\", \"Country: Bolivia<br>CO2 Emissions: 1.11<br>GDP per capita: 3413.26<br>Population: 8445134.0<br>Continent: Americas\", \"Country: Brazil<br>CO2 Emissions: 1.84<br>GDP per capita: 8131.21<br>Population: 179914212.0<br>Continent: Americas\", \"Country: Canada<br>CO2 Emissions: 16.56<br>GDP per capita: 33328.97<br>Population: 31902268.0<br>Continent: Americas\", \"Country: Chile<br>CO2 Emissions: 3.55<br>GDP per capita: 10778.78<br>Population: 15497046.0<br>Continent: Americas\", \"Country: Colombia<br>CO2 Emissions: 1.34<br>GDP per capita: 5755.26<br>Population: 41008227.0<br>Continent: Americas\", \"Country: Costa Rica<br>CO2 Emissions: 1.56<br>GDP per capita: 7723.45<br>Population: 3834934.0<br>Continent: Americas\", \"Country: Cuba<br>CO2 Emissions: 2.33<br>GDP per capita: 6340.65<br>Population: 11226999.0<br>Continent: Americas\", \"Country: Dominican Republic<br>CO2 Emissions: 2.42<br>GDP per capita: 4563.81<br>Population: 8650322.0<br>Continent: Americas\", \"Country: Ecuador<br>CO2 Emissions: 1.91<br>GDP per capita: 5773.04<br>Population: 12921234.0<br>Continent: Americas\", \"Country: El Salvador<br>CO2 Emissions: 1.03<br>GDP per capita: 5351.57<br>Population: 6353681.0<br>Continent: Americas\", \"Country: Guatemala<br>CO2 Emissions: 0.9<br>GDP per capita: 4858.35<br>Population: 11178650.0<br>Continent: Americas\", \"Country: Haiti<br>CO2 Emissions: 0.21<br>GDP per capita: 1270.36<br>Population: 7607651.0<br>Continent: Americas\", \"Country: Honduras<br>CO2 Emissions: 0.94<br>GDP per capita: 3099.73<br>Population: 6677328.0<br>Continent: Americas\", \"Country: Jamaica<br>CO2 Emissions: 3.92<br>GDP per capita: 6994.77<br>Population: 2664659.0<br>Continent: Americas\", \"Country: Mexico<br>CO2 Emissions: 3.71<br>GDP per capita: 10742.44<br>Population: 102479927.0<br>Continent: Americas\", \"Country: Nicaragua<br>CO2 Emissions: 0.78<br>GDP per capita: 2474.55<br>Population: 5146848.0<br>Continent: Americas\", \"Country: Panama<br>CO2 Emissions: 1.87<br>GDP per capita: 7356.03<br>Population: 2990875.0<br>Continent: Americas\", \"Country: Paraguay<br>CO2 Emissions: 0.71<br>GDP per capita: 3783.67<br>Population: 5884491.0<br>Continent: Americas\", \"Country: Peru<br>CO2 Emissions: 1.02<br>GDP per capita: 5909.02<br>Population: 26769436.0<br>Continent: Americas\", \"Country: Trinidad and Tobago<br>CO2 Emissions: 21.3<br>GDP per capita: 11460.6<br>Population: 1101832.0<br>Continent: Americas\", \"Country: United States<br>CO2 Emissions: 19.64<br>GDP per capita: 39097.1<br>Population: 287675526.0<br>Continent: Americas\", \"Country: Uruguay<br>CO2 Emissions: 1.39<br>GDP per capita: 7727.0<br>Population: 3363085.0<br>Continent: Americas\"], \"type\": \"scatter\", \"x\": [3.944366221991296, 3.5331697135430002, 3.910155329325562, 4.522821828170987, 4.0325697629816, 3.7600649452572528, 3.887811181633416, 3.8021335538653216, 3.6593273799595125, 3.7614049060594232, 3.728481102232665, 3.686488574644437, 3.103928496694248, 3.4913236787948225, 3.844773740529219, 4.031102958114439, 3.393496026186444, 3.866643605928993, 3.577913738576077, 3.7715154652848497, 4.059207363682899, 4.592144540102953, 3.8880110248794315], \"y\": [0.5173993209895911, 0.043601070501163804, 0.2636990850515684, 1.2190440158297966, 0.5500670995644135, 0.12674800206954362, 0.19223095447202443, 0.36786768733119096, 0.3829368501708564, 0.28073131521354155, 0.012048313063924334, -0.04374287381820032, -0.6846534711798509, -0.028166061380089497, 0.5928681367074917, 0.5695554914723717, -0.10753811854618071, 0.2711191543257423, -0.15019824588034605, 0.009457969484563348, 1.3284723945181913, 1.2931236993690485, 0.1425281528396496]}, {\"marker\": {\"line\": {\"width\": 2}, \"size\": [5026.768842904953, 810.1833125904285, 11647.179486897247, 3595.3729987304514, 35782.67737327659, 32158.55324793079, 14527.904184706065, 4899.164826784255, 2455.509926675109, 11272.348513065057, 2303.7946957140084, 1453.1211236507438, 1917.7538945339154, 4760.500498897149, 1635.3085335801316, 6752.635115271667, 5086.641033137684, 1647.2589353225558, 12385.617626909043, 9110.163994133147, 4949.9020192323, 2048.8474809023733, 4424.565854408769, 7925.070851418302, 8994.89560806572, 1841.0806609163], \"sizemode\": \"area\", \"sizeref\": 7.156535474655318}, \"mode\": \"markers\", \"name\": \"Asia\", \"text\": [\"Country: Afghanistan<br>CO2 Emissions: 0.04<br>GDP per capita: 726.73<br>Population: 25268405.0<br>Continent: Asia\", \"Country: Bahrain<br>CO2 Emissions: 21.64<br>GDP per capita: 23403.56<br>Population: 656397.0<br>Continent: Asia\", \"Country: Bangladesh<br>CO2 Emissions: 0.25<br>GDP per capita: 1136.39<br>Population: 135656790.0<br>Continent: Asia\", \"Country: Cambodia<br>CO2 Emissions: 0.17<br>GDP per capita: 896.23<br>Population: 12926707.0<br>Continent: Asia\", \"Country: China<br>CO2 Emissions: 2.89<br>GDP per capita: 3119.28<br>Population: 1280400000.0<br>Continent: Asia\", \"Country: India<br>CO2 Emissions: 0.97<br>GDP per capita: 1746.77<br>Population: 1034172547.0<br>Continent: Asia\", \"Country: Indonesia<br>CO2 Emissions: 1.41<br>GDP per capita: 2873.91<br>Population: 211060000.0<br>Continent: Asia\", \"Country: Iraq<br>CO2 Emissions: 3.5<br>GDP per capita: 4390.72<br>Population: 24001816.0<br>Continent: Asia\", \"Country: Israel<br>CO2 Emissions: 9.1<br>GDP per capita: 21905.6<br>Population: 6029529.0<br>Continent: Asia\", \"Country: Japan<br>CO2 Emissions: 9.57<br>GDP per capita: 28604.59<br>Population: 127065841.0<br>Continent: Asia\", \"Country: Jordan<br>CO2 Emissions: 3.42<br>GDP per capita: 3844.92<br>Population: 5307470.0<br>Continent: Asia\", \"Country: Kuwait<br>CO2 Emissions: 28.51<br>GDP per capita: 35110.11<br>Population: 2111561.0<br>Continent: Asia\", \"Country: Lebanon<br>CO2 Emissions: 4.54<br>GDP per capita: 9313.94<br>Population: 3677780.0<br>Continent: Asia\", \"Country: Malaysia<br>CO2 Emissions: 5.48<br>GDP per capita: 10206.98<br>Population: 22662365.0<br>Continent: Asia\", \"Country: Mongolia<br>CO2 Emissions: 3.39<br>GDP per capita: 2140.74<br>Population: 2674234.0<br>Continent: Asia\", \"Country: Myanmar<br>CO2 Emissions: 0.19<br>GDP per capita: 611.0<br>Population: 45598081.0<br>Continent: Asia\", \"Country: Nepal<br>CO2 Emissions: 0.11<br>GDP per capita: 1057.21<br>Population: 25873917.0<br>Continent: Asia\", \"Country: Oman<br>CO2 Emissions: 10.96<br>GDP per capita: 19774.84<br>Population: 2713462.0<br>Continent: Asia\", \"Country: Pakistan<br>CO2 Emissions: 0.79<br>GDP per capita: 2092.71<br>Population: 153403524.0<br>Continent: Asia\", \"Country: Philippines<br>CO2 Emissions: 0.88<br>GDP per capita: 2650.92<br>Population: 82995088.0<br>Continent: Asia\", \"Country: Saudi Arabia<br>CO2 Emissions: 14.4<br>GDP per capita: 19014.54<br>Population: 24501530.0<br>Continent: Asia\", \"Country: Singapore<br>CO2 Emissions: 11.31<br>GDP per capita: 36023.11<br>Population: 4197776.0<br>Continent: Asia\", \"Country: Sri Lanka<br>CO2 Emissions: 0.58<br>GDP per capita: 3015.38<br>Population: 19576783.0<br>Continent: Asia\", \"Country: Thailand<br>CO2 Emissions: 3.25<br>GDP per capita: 5913.19<br>Population: 62806748.0<br>Continent: Asia\", \"Country: Vietnam<br>CO2 Emissions: 0.89<br>GDP per capita: 1764.46<br>Population: 80908147.0<br>Continent: Asia\", \"Country: West Bank and Gaza<br>CO2 Emissions: 0.38<br>GDP per capita: 4515.49<br>Population: 3389578.0<br>Continent: Asia\"], \"type\": \"scatter\", \"x\": [2.861375511734737, 4.369281910990156, 3.0555275676981246, 2.952417546291209, 3.49405448539833, 3.2422355887477936, 3.4584735972526914, 3.6425354767785927, 4.340555056761255, 4.456435756092515, 3.584886991061737, 4.5454321364287775, 3.9691333813441148, 4.008897176145817, 3.330563786642788, 2.786041210242554, 3.024159746991166, 4.2961129095274355, 3.3207095561615465, 3.423396796672216, 4.279085850368255, 4.556581148793103, 3.479341881897758, 3.771821652298354, 3.246610999521819, 3.654704651592898], \"y\": [-1.385849428037696, 1.3352995414349624, -0.6065469087567749, -0.7592797997117066, 0.46017969285474747, -0.014554689906250268, 0.14956869028499442, 0.5438523764146064, 0.9592261281223041, 0.9810539626363023, 0.533907233928113, 1.4550325969257851, 0.6573024864325764, 0.7388454757089209, 0.5304064725402076, -0.7232817237332704, -0.970242845651111, 1.0399585291014413, -0.10195592527751511, -0.05674069103127177, 1.1583443110408342, 1.0534714829082976, -0.2337588176106103, 0.5116292985642689, -0.050502335786312906, -0.42527633343988297]}, {\"marker\": {\"line\": {\"width\": 2}, \"size\": [1873.1022396014587, 2854.524829109041, 3211.2256227179055, 2040.9350798102325, 2767.9954841003623, 2116.841987489855, 3202.5450816499056, 2318.3384136057443, 2278.8240388410863, 7741.126210054968, 9074.727048236768, 3256.3573206882566, 3175.423278871653, 536.6842647218194, 1969.5570568023663, 7610.97884637712, 4015.3243953633437, 2129.692700837377, 6214.979967787507, 3230.149686934028, 4733.321983554468, 2325.951848168831, 1418.2725408044817, 6336.601376132161, 2992.352753269574, 2713.2557933228486, 8204.201850271604, 7740.3120738120115], \"sizemode\": \"area\", \"sizeref\": 7.156535474655318}, \"mode\": \"markers\", \"name\": \"Europe\", \"text\": [\"Country: Albania<br>CO2 Emissions: 1.23<br>GDP per capita: 4604.21<br>Population: 3508512.0<br>Continent: Europe\", \"Country: Austria<br>CO2 Emissions: 8.28<br>GDP per capita: 32417.61<br>Population: 8148312.0<br>Continent: Europe\", \"Country: Belgium<br>CO2 Emissions: 10.39<br>GDP per capita: 30485.88<br>Population: 10311970.0<br>Continent: Europe\", \"Country: Bosnia and Herzegovina<br>CO2 Emissions: 3.76<br>GDP per capita: 6018.98<br>Population: 4165416.0<br>Continent: Europe\", \"Country: Bulgaria<br>CO2 Emissions: 5.67<br>GDP per capita: 7696.78<br>Population: 7661799.0<br>Continent: Europe\", \"Country: Croatia<br>CO2 Emissions: 4.86<br>GDP per capita: 11628.39<br>Population: 4481020.0<br>Continent: Europe\", \"Country: Czech Republic<br>CO2 Emissions: 11.74<br>GDP per capita: 17596.21<br>Population: 10256295.0<br>Continent: Europe\", \"Country: Denmark<br>CO2 Emissions: 9.68<br>GDP per capita: 32166.5<br>Population: 5374693.0<br>Continent: Europe\", \"Country: Finland<br>CO2 Emissions: 11.86<br>GDP per capita: 28204.59<br>Population: 5193039.0<br>Continent: Europe\", \"Country: France<br>CO2 Emissions: 6.07<br>GDP per capita: 28926.03<br>Population: 59925035.0<br>Continent: Europe\", \"Country: Germany<br>CO2 Emissions: 10.06<br>GDP per capita: 30035.8<br>Population: 82350671.0<br>Continent: Europe\", \"Country: Greece<br>CO2 Emissions: 8.59<br>GDP per capita: 22514.25<br>Population: 10603863.0<br>Continent: Europe\", \"Country: Hungary<br>CO2 Emissions: 5.52<br>GDP per capita: 14843.94<br>Population: 10083313.0<br>Continent: Europe\", \"Country: Iceland<br>CO2 Emissions: 7.55<br>GDP per capita: 31163.2<br>Population: 288030.0<br>Continent: Europe\", \"Country: Ireland<br>CO2 Emissions: 11.04<br>GDP per capita: 34077.05<br>Population: 3879155.0<br>Continent: Europe\", \"Country: Italy<br>CO2 Emissions: 7.93<br>GDP per capita: 27968.1<br>Population: 57926999.0<br>Continent: Europe\", \"Country: Netherlands<br>CO2 Emissions: 10.65<br>GDP per capita: 33724.76<br>Population: 16122830.0<br>Continent: Europe\", \"Country: Norway<br>CO2 Emissions: 8.38<br>GDP per capita: 44683.98<br>Population: 4535591.0<br>Continent: Europe\", \"Country: Poland<br>CO2 Emissions: 7.71<br>GDP per capita: 12002.24<br>Population: 38625976.0<br>Continent: Europe\", \"Country: Portugal<br>CO2 Emissions: 6.41<br>GDP per capita: 19970.91<br>Population: 10433867.0<br>Continent: Europe\", \"Country: Romania<br>CO2 Emissions: 4.47<br>GDP per capita: 7885.36<br>Population: 22404337.0<br>Continent: Europe\", \"Country: Slovak Republic<br>CO2 Emissions: 7.3<br>GDP per capita: 13638.78<br>Population: 5410052.0<br>Continent: Europe\", \"Country: Slovenia<br>CO2 Emissions: 7.73<br>GDP per capita: 20660.02<br>Population: 2011497.0<br>Continent: Europe\", \"Country: Spain<br>CO2 Emissions: 7.59<br>GDP per capita: 24835.47<br>Population: 40152517.0<br>Continent: Europe\", \"Country: Sweden<br>CO2 Emissions: 6.43<br>GDP per capita: 29341.63<br>Population: 8954175.0<br>Continent: Europe\", \"Country: Switzerland<br>CO2 Emissions: 5.59<br>GDP per capita: 34480.96<br>Population: 7361757.0<br>Continent: Europe\", \"Country: Turkey<br>CO2 Emissions: 3.16<br>GDP per capita: 6508.09<br>Population: 67308928.0<br>Continent: Europe\", \"Country: United Kingdom<br>CO2 Emissions: 8.9<br>GDP per capita: 29479.0<br>Population: 59912431.0<br>Continent: Europe\"], \"type\": \"scatter\", \"x\": [3.6631552876111546, 4.510780962228499, 4.484098789227883, 3.779522556717748, 3.8863089447639965, 4.065519549759354, 4.245419141804519, 4.507403809197911, 4.450319799701181, 4.461288867418601, 4.477639232449136, 4.35245757681066, 4.1715490603360585, 4.49364207422891, 4.532461983714468, 4.4466629353612905, 4.527948839138985, 4.650151802589099, 4.079262273495782, 4.300397808184131, 3.8968215299567097, 4.134775472158593, 4.315130724150554, 4.395072412263202, 4.467484250073514, 4.53757931986706, 3.813453264395313, 4.4695127351694275], \"y\": [0.08974291258306684, 0.9179858465590095, 1.0164272052175058, 0.5746390044497166, 0.7537826707048112, 0.6870432346334143, 1.0698050556405674, 0.9859620249356915, 1.074109436151124, 0.7829105116217587, 1.0025406680817874, 0.9340927614040876, 0.7420829745400194, 0.8779600254887054, 1.0430182753171513, 0.8994003924542908, 1.027451133455215, 0.9231680765797505, 0.8871693288647851, 0.8068639030355367, 0.6507656593458898, 0.863324081630271, 0.8882363371165048, 0.8803150551426167, 0.8084964866418068, 0.7471407994602035, 0.49945124826775755, 0.9495911559063]}, {\"marker\": {\"line\": {\"width\": 2}, \"size\": [4421.175409322729, 1976.8755651279623], \"sizemode\": \"area\", \"sizeref\": 7.156535474655318}, \"mode\": \"markers\", \"name\": \"Oceania\", \"text\": [\"Country: Australia<br>CO2 Emissions: 17.37<br>GDP per capita: 30687.75<br>Population: 19546792.0<br>Continent: Oceania\", \"Country: New Zealand<br>CO2 Emissions: 8.41<br>GDP per capita: 23189.8<br>Population: 3908037.0<br>Continent: Oceania\"], \"type\": \"scatter\", \"x\": [4.486965114432396, 4.365297028371995], \"y\": [1.2398111138171342, 0.9247192577709709]}],                        {\"paper_bgcolor\": \"rgb(243, 243, 243)\", \"plot_bgcolor\": \"rgb(243, 243, 243)\", \"template\": {\"data\": {\"bar\": [{\"error_x\": {\"color\": \"#2a3f5f\"}, \"error_y\": {\"color\": \"#2a3f5f\"}, \"marker\": {\"line\": {\"color\": \"#E5ECF6\", \"width\": 0.5}}, \"type\": \"bar\"}], \"barpolar\": [{\"marker\": {\"line\": {\"color\": \"#E5ECF6\", \"width\": 0.5}}, \"type\": \"barpolar\"}], \"carpet\": [{\"aaxis\": {\"endlinecolor\": \"#2a3f5f\", \"gridcolor\": \"white\", \"linecolor\": \"white\", \"minorgridcolor\": \"white\", \"startlinecolor\": \"#2a3f5f\"}, \"baxis\": {\"endlinecolor\": \"#2a3f5f\", \"gridcolor\": \"white\", \"linecolor\": \"white\", \"minorgridcolor\": \"white\", \"startlinecolor\": \"#2a3f5f\"}, \"type\": \"carpet\"}], \"choropleth\": [{\"colorbar\": {\"outlinewidth\": 0, \"ticks\": \"\"}, \"type\": \"choropleth\"}], \"contour\": [{\"colorbar\": {\"outlinewidth\": 0, \"ticks\": \"\"}, \"colorscale\": [[0.0, \"#0d0887\"], [0.1111111111111111, \"#46039f\"], [0.2222222222222222, \"#7201a8\"], [0.3333333333333333, \"#9c179e\"], [0.4444444444444444, \"#bd3786\"], [0.5555555555555556, \"#d8576b\"], [0.6666666666666666, \"#ed7953\"], [0.7777777777777778, \"#fb9f3a\"], [0.8888888888888888, \"#fdca26\"], [1.0, \"#f0f921\"]], \"type\": \"contour\"}], \"contourcarpet\": [{\"colorbar\": {\"outlinewidth\": 0, \"ticks\": \"\"}, \"type\": \"contourcarpet\"}], \"heatmap\": [{\"colorbar\": {\"outlinewidth\": 0, \"ticks\": \"\"}, \"colorscale\": [[0.0, \"#0d0887\"], [0.1111111111111111, \"#46039f\"], [0.2222222222222222, \"#7201a8\"], [0.3333333333333333, \"#9c179e\"], [0.4444444444444444, \"#bd3786\"], [0.5555555555555556, \"#d8576b\"], [0.6666666666666666, \"#ed7953\"], [0.7777777777777778, \"#fb9f3a\"], [0.8888888888888888, \"#fdca26\"], [1.0, \"#f0f921\"]], \"type\": \"heatmap\"}], \"heatmapgl\": [{\"colorbar\": {\"outlinewidth\": 0, \"ticks\": \"\"}, \"colorscale\": [[0.0, \"#0d0887\"], [0.1111111111111111, \"#46039f\"], [0.2222222222222222, \"#7201a8\"], [0.3333333333333333, \"#9c179e\"], [0.4444444444444444, \"#bd3786\"], [0.5555555555555556, \"#d8576b\"], [0.6666666666666666, \"#ed7953\"], [0.7777777777777778, \"#fb9f3a\"], [0.8888888888888888, \"#fdca26\"], [1.0, \"#f0f921\"]], \"type\": \"heatmapgl\"}], \"histogram\": [{\"marker\": {\"colorbar\": {\"outlinewidth\": 0, \"ticks\": \"\"}}, \"type\": \"histogram\"}], \"histogram2d\": [{\"colorbar\": {\"outlinewidth\": 0, \"ticks\": \"\"}, \"colorscale\": [[0.0, \"#0d0887\"], [0.1111111111111111, \"#46039f\"], [0.2222222222222222, \"#7201a8\"], [0.3333333333333333, \"#9c179e\"], [0.4444444444444444, \"#bd3786\"], [0.5555555555555556, \"#d8576b\"], [0.6666666666666666, \"#ed7953\"], [0.7777777777777778, \"#fb9f3a\"], [0.8888888888888888, \"#fdca26\"], [1.0, \"#f0f921\"]], \"type\": \"histogram2d\"}], \"histogram2dcontour\": [{\"colorbar\": {\"outlinewidth\": 0, \"ticks\": \"\"}, \"colorscale\": [[0.0, \"#0d0887\"], [0.1111111111111111, \"#46039f\"], [0.2222222222222222, \"#7201a8\"], [0.3333333333333333, \"#9c179e\"], [0.4444444444444444, \"#bd3786\"], [0.5555555555555556, \"#d8576b\"], [0.6666666666666666, \"#ed7953\"], [0.7777777777777778, \"#fb9f3a\"], [0.8888888888888888, \"#fdca26\"], [1.0, \"#f0f921\"]], \"type\": \"histogram2dcontour\"}], \"mesh3d\": [{\"colorbar\": {\"outlinewidth\": 0, \"ticks\": \"\"}, \"type\": \"mesh3d\"}], \"parcoords\": [{\"line\": {\"colorbar\": {\"outlinewidth\": 0, \"ticks\": \"\"}}, \"type\": \"parcoords\"}], \"pie\": [{\"automargin\": true, \"type\": \"pie\"}], \"scatter\": [{\"marker\": {\"colorbar\": {\"outlinewidth\": 0, \"ticks\": \"\"}}, \"type\": \"scatter\"}], \"scatter3d\": [{\"line\": {\"colorbar\": {\"outlinewidth\": 0, \"ticks\": \"\"}}, \"marker\": {\"colorbar\": {\"outlinewidth\": 0, \"ticks\": \"\"}}, \"type\": \"scatter3d\"}], \"scattercarpet\": [{\"marker\": {\"colorbar\": {\"outlinewidth\": 0, \"ticks\": \"\"}}, \"type\": \"scattercarpet\"}], \"scattergeo\": [{\"marker\": {\"colorbar\": {\"outlinewidth\": 0, \"ticks\": \"\"}}, \"type\": \"scattergeo\"}], \"scattergl\": [{\"marker\": {\"colorbar\": {\"outlinewidth\": 0, \"ticks\": \"\"}}, \"type\": \"scattergl\"}], \"scattermapbox\": [{\"marker\": {\"colorbar\": {\"outlinewidth\": 0, \"ticks\": \"\"}}, \"type\": \"scattermapbox\"}], \"scatterpolar\": [{\"marker\": {\"colorbar\": {\"outlinewidth\": 0, \"ticks\": \"\"}}, \"type\": \"scatterpolar\"}], \"scatterpolargl\": [{\"marker\": {\"colorbar\": {\"outlinewidth\": 0, \"ticks\": \"\"}}, \"type\": \"scatterpolargl\"}], \"scatterternary\": [{\"marker\": {\"colorbar\": {\"outlinewidth\": 0, \"ticks\": \"\"}}, \"type\": \"scatterternary\"}], \"surface\": [{\"colorbar\": {\"outlinewidth\": 0, \"ticks\": \"\"}, \"colorscale\": [[0.0, \"#0d0887\"], [0.1111111111111111, \"#46039f\"], [0.2222222222222222, \"#7201a8\"], [0.3333333333333333, \"#9c179e\"], [0.4444444444444444, \"#bd3786\"], [0.5555555555555556, \"#d8576b\"], [0.6666666666666666, \"#ed7953\"], [0.7777777777777778, \"#fb9f3a\"], [0.8888888888888888, \"#fdca26\"], [1.0, \"#f0f921\"]], \"type\": \"surface\"}], \"table\": [{\"cells\": {\"fill\": {\"color\": \"#EBF0F8\"}, \"line\": {\"color\": \"white\"}}, \"header\": {\"fill\": {\"color\": \"#C8D4E3\"}, \"line\": {\"color\": \"white\"}}, \"type\": \"table\"}]}, \"layout\": {\"annotationdefaults\": {\"arrowcolor\": \"#2a3f5f\", \"arrowhead\": 0, \"arrowwidth\": 1}, \"autotypenumbers\": \"strict\", \"coloraxis\": {\"colorbar\": {\"outlinewidth\": 0, \"ticks\": \"\"}}, \"colorscale\": {\"diverging\": [[0, \"#8e0152\"], [0.1, \"#c51b7d\"], [0.2, \"#de77ae\"], [0.3, \"#f1b6da\"], [0.4, \"#fde0ef\"], [0.5, \"#f7f7f7\"], [0.6, \"#e6f5d0\"], [0.7, \"#b8e186\"], [0.8, \"#7fbc41\"], [0.9, \"#4d9221\"], [1, \"#276419\"]], \"sequential\": [[0.0, \"#0d0887\"], [0.1111111111111111, \"#46039f\"], [0.2222222222222222, \"#7201a8\"], [0.3333333333333333, \"#9c179e\"], [0.4444444444444444, \"#bd3786\"], [0.5555555555555556, \"#d8576b\"], [0.6666666666666666, \"#ed7953\"], [0.7777777777777778, \"#fb9f3a\"], [0.8888888888888888, \"#fdca26\"], [1.0, \"#f0f921\"]], \"sequentialminus\": [[0.0, \"#0d0887\"], [0.1111111111111111, \"#46039f\"], [0.2222222222222222, \"#7201a8\"], [0.3333333333333333, \"#9c179e\"], [0.4444444444444444, \"#bd3786\"], [0.5555555555555556, \"#d8576b\"], [0.6666666666666666, \"#ed7953\"], [0.7777777777777778, \"#fb9f3a\"], [0.8888888888888888, \"#fdca26\"], [1.0, \"#f0f921\"]]}, \"colorway\": [\"#636efa\", \"#EF553B\", \"#00cc96\", \"#ab63fa\", \"#FFA15A\", \"#19d3f3\", \"#FF6692\", \"#B6E880\", \"#FF97FF\", \"#FECB52\"], \"font\": {\"color\": \"#2a3f5f\"}, \"geo\": {\"bgcolor\": \"white\", \"lakecolor\": \"white\", \"landcolor\": \"#E5ECF6\", \"showlakes\": true, \"showland\": true, \"subunitcolor\": \"white\"}, \"hoverlabel\": {\"align\": \"left\"}, \"hovermode\": \"closest\", \"mapbox\": {\"style\": \"light\"}, \"paper_bgcolor\": \"white\", \"plot_bgcolor\": \"#E5ECF6\", \"polar\": {\"angularaxis\": {\"gridcolor\": \"white\", \"linecolor\": \"white\", \"ticks\": \"\"}, \"bgcolor\": \"#E5ECF6\", \"radialaxis\": {\"gridcolor\": \"white\", \"linecolor\": \"white\", \"ticks\": \"\"}}, \"scene\": {\"xaxis\": {\"backgroundcolor\": \"#E5ECF6\", \"gridcolor\": \"white\", \"gridwidth\": 2, \"linecolor\": \"white\", \"showbackground\": true, \"ticks\": \"\", \"zerolinecolor\": \"white\"}, \"yaxis\": {\"backgroundcolor\": \"#E5ECF6\", \"gridcolor\": \"white\", \"gridwidth\": 2, \"linecolor\": \"white\", \"showbackground\": true, \"ticks\": \"\", \"zerolinecolor\": \"white\"}, \"zaxis\": {\"backgroundcolor\": \"#E5ECF6\", \"gridcolor\": \"white\", \"gridwidth\": 2, \"linecolor\": \"white\", \"showbackground\": true, \"ticks\": \"\", \"zerolinecolor\": \"white\"}}, \"shapedefaults\": {\"line\": {\"color\": \"#2a3f5f\"}}, \"ternary\": {\"aaxis\": {\"gridcolor\": \"white\", \"linecolor\": \"white\", \"ticks\": \"\"}, \"baxis\": {\"gridcolor\": \"white\", \"linecolor\": \"white\", \"ticks\": \"\"}, \"bgcolor\": \"#E5ECF6\", \"caxis\": {\"gridcolor\": \"white\", \"linecolor\": \"white\", \"ticks\": \"\"}}, \"title\": {\"x\": 0.05}, \"xaxis\": {\"automargin\": true, \"gridcolor\": \"white\", \"linecolor\": \"white\", \"ticks\": \"\", \"title\": {\"standoff\": 15}, \"zerolinecolor\": \"white\", \"zerolinewidth\": 2}, \"yaxis\": {\"automargin\": true, \"gridcolor\": \"white\", \"linecolor\": \"white\", \"ticks\": \"\", \"title\": {\"standoff\": 15}, \"zerolinecolor\": \"white\", \"zerolinewidth\": 2}}}, \"title\": {\"text\": \"GDP per Capita vs. CO2 Emissions per Capita in 2002\"}, \"xaxis\": {\"gridcolor\": \"white\", \"gridwidth\": 2, \"title\": {\"text\": \"GDP per capita ($)\"}}, \"yaxis\": {\"gridcolor\": \"white\", \"gridwidth\": 2, \"title\": {\"text\": \"CO2 Emissions (Metric Tons per Capita)\"}}},                        {\"responsive\": true}                    ).then(function(){\n",
       "                            \n",
       "var gd = document.getElementById('33f0a07a-1b36-4e88-9637-0acf816f7ac7');\n",
       "var x = new MutationObserver(function (mutations, observer) {{\n",
       "        var display = window.getComputedStyle(gd).display;\n",
       "        if (!display || display === 'none') {{\n",
       "            console.log([gd, 'removed!']);\n",
       "            Plotly.purge(gd);\n",
       "            observer.disconnect();\n",
       "        }}\n",
       "}});\n",
       "\n",
       "// Listen for the removal of the full notebook cells\n",
       "var notebookContainer = gd.closest('#notebook-container');\n",
       "if (notebookContainer) {{\n",
       "    x.observe(notebookContainer, {childList: true});\n",
       "}}\n",
       "\n",
       "// Listen for the clearing of the current output cell\n",
       "var outputEl = gd.closest('.output');\n",
       "if (outputEl) {{\n",
       "    x.observe(outputEl, {childList: true});\n",
       "}}\n",
       "\n",
       "                        })                };                });            </script>        </div>"
      ]
     },
     "metadata": {},
     "output_type": "display_data"
    }
   ],
   "source": [
    "hover_text = []\n",
    "bubble_size = []\n",
    "\n",
    "for index, row in df_2002.iterrows():\n",
    "    hover_text.append(('Country: {country}<br>'+\n",
    "                      'CO2 Emissions: {CO2}<br>'+\n",
    "                      'GDP per capita: {gdp}<br>'+\n",
    "                      'Population: {pop}<br>'+\n",
    "                      'Continent: {continent}').format(country=row['country'],\n",
    "                                            CO2=round(10**(row['co2']), 2),\n",
    "                                            gdp=round(10**(row['gdp']), 2),\n",
    "                                            pop=row['pop'],\n",
    "                                            continent=row['continent']))\n",
    "    bubble_size.append(math.sqrt(row['pop']))\n",
    "\n",
    "\n",
    "df_2002['text'] = hover_text\n",
    "df_2002['size'] = bubble_size\n",
    "sizeref = 2.*max(df_2002['size'])/(100**2)\n",
    "\n",
    "continent_names = ['Africa', 'Americas', 'Asia', 'Europe', 'Oceania']\n",
    "continent_data = {continent:df_2002.query(\"continent == '%s'\" %continent)\n",
    "                              for continent in continent_names}\n",
    "\n",
    "fig = go.Figure()\n",
    "\n",
    "for continent_name, continent in continent_data.items():\n",
    "    fig.add_trace(go.Scatter(\n",
    "        x=continent['gdp'], y=continent['co2'],\n",
    "        name=continent_name, text=continent['text'],\n",
    "        marker_size=continent['size'],\n",
    "        ))\n",
    "\n",
    "# Tune marker appearance and layout\n",
    "fig.update_traces(mode='markers', marker=dict(sizemode='area',\n",
    "                                              sizeref=sizeref, line_width=2))\n",
    "\n",
    "fig.update_layout(\n",
    "    title='GDP per Capita vs. CO2 Emissions per Capita in 2002',\n",
    "    xaxis=dict(\n",
    "        title='GDP per capita ($)',\n",
    "        gridcolor='white',\n",
    "        gridwidth=2,\n",
    "    ),\n",
    "    yaxis=dict(\n",
    "        title='CO2 Emissions (Metric Tons per Capita)',\n",
    "        gridcolor='white',\n",
    "        gridwidth=2,\n",
    "    ),\n",
    "    paper_bgcolor='rgb(243, 243, 243)',\n",
    "    plot_bgcolor='rgb(243, 243, 243)',\n",
    ")\n",
    "fig.show()"
   ]
  },
  {
   "cell_type": "markdown",
   "metadata": {},
   "source": [
    "## Part 2: Relationship between Continent and Energy Use"
   ]
  },
  {
   "cell_type": "code",
   "execution_count": 49,
   "metadata": {},
   "outputs": [
    {
     "data": {
      "image/png": "[encoded data removed]",
      "text/plain": [
       "<Figure size 432x288 with 1 Axes>"
      ]
     },
     "metadata": {
      "needs_background": "light"
     },
     "output_type": "display_data"
    }
   ],
   "source": [
    "energy_use_df = df[['continent', 'Energy use (kg of oil equivalent per capita)']].dropna()\n",
    "\n",
    "sns.boxplot(x='continent', y='Energy use (kg of oil equivalent per capita)', data=energy_use_df, palette=\"Blues\")\n",
    "plt.xlabel('Continent')\n",
    "plt.ylabel('Energy Use (kg of oil/capita)')\n",
    "plt.title('Energy Use Across Continents', fontsize=14, fontweight='bold', y=1.05)\n",
    "sns.despine()\n",
    "plt.show()"
   ]
  },
  {
   "cell_type": "code",
   "execution_count": 69,
   "metadata": {},
   "outputs": [
    {
     "name": "stdout",
     "output_type": "stream",
     "text": [
      "F-Statistic: 60.89, p-statistic: 4.393829319284519e-50\n"
     ]
    }
   ],
   "source": [
    "#One-Way ANOVA\n",
    "F, p = f_oneway(energy_use_df['continent'] == 'Europe', energy_use_df['continent'] == 'Asia',\n",
    "               energy_use_df['continent'] == 'Oceania', energy_use_df['continent'] == 'Africa',\n",
    "               energy_use_df['continent'] == 'Americas')\n",
    "\n",
    "print(f'F-Statistic: {round(F, 2)}, p-statistic: {p}')"
   ]
  },
  {
   "cell_type": "code",
   "execution_count": 77,
   "metadata": {},
   "outputs": [
    {
     "name": "stdout",
     "output_type": "stream",
     "text": [
      "     Multiple Comparison of Means - Tukey HSD, FWER=0.05     \n",
      "=============================================================\n",
      " group1   group2   meandiff p-adj    lower     upper   reject\n",
      "-------------------------------------------------------------\n",
      "  Africa Americas 1005.1037  0.001  466.8321 1543.3753   True\n",
      "  Africa     Asia 1168.7636  0.001  628.2524 1709.2747   True\n",
      "  Africa   Europe 2447.5453  0.001 1947.3833 2947.7072   True\n",
      "  Africa  Oceania 3281.7976  0.001 2040.3398 4523.2555   True\n",
      "Americas     Asia  163.6599    0.9 -384.4165  711.7363  False\n",
      "Americas   Europe 1442.4416  0.001  934.1136 1950.7696   True\n",
      "Americas  Oceania  2276.694  0.001 1031.9237 3521.4642   True\n",
      "    Asia   Europe 1278.7817  0.001  768.0828 1789.4806   True\n",
      "    Asia  Oceania 2113.0341  0.001  867.2937 3358.7744   True\n",
      "  Europe  Oceania  834.2524 0.3424 -394.5188 2063.0235  False\n",
      "-------------------------------------------------------------\n"
     ]
    }
   ],
   "source": [
    "tukey = sm.multicomp.pairwise_tukeyhsd(endog=energy_use_df['Energy use (kg of oil equivalent per capita)'],\n",
    "                          groups=energy_use_df['continent'],\n",
    "                          alpha=0.05)\n",
    "print(tukey)"
   ]
  },
  {
   "cell_type": "code",
   "execution_count": null,
   "metadata": {},
   "outputs": [],
   "source": [
    "'''\n",
    "from statannot import add_stat_annotation\n",
    "\n",
    "fig, ax = plt.subplots(figsize=(10,5))\n",
    "\n",
    "order = ['Europe', 'Africa', 'Americas', 'Oceania', 'Asia']\n",
    "sns.boxplot(x='continent', y='Energy use (kg of oil equivalent per capita)', data=energy_use_df, palette=\"Blues\", order=order)\n",
    "add_stat_annotation(ax, data=energy_use_df, x='continent', y='Energy use (kg of oil equivalent per capita)', order=order,\n",
    "                    box_pairs=[('Africa', 'Americas'), ('Africa', 'Asia'), ('Africa', 'Europe'), ('Africa', 'Oceania'),\n",
    "                                ('Americas', 'Europe'), ('Asia', 'Europe'), ('Asia', 'Oceania')],\n",
    "                    test='t-test_ind',\n",
    "                    text_format='star',\n",
    "                    loc='outside')\n",
    "plt.xlabel('Continent')\n",
    "plt.ylabel('Energy Use (kg of oil/capita)')\n",
    "plt.title('Energy Use Across Continents', fontsize=14, fontweight='bold', y=1.05)\n",
    "sns.despine()\n",
    "plt.show()\n",
    "'''"
   ]
  },
  {
   "cell_type": "markdown",
   "metadata": {},
   "source": [
    "## Part 3: Is there a significant difference between Europe and Asia with respect to Imports of Goods in the year after 1990?"
   ]
  },
  {
   "cell_type": "code",
   "execution_count": 93,
   "metadata": {},
   "outputs": [
    {
     "data": {
      "text/html": [
       "<div>\n",
       "<style scoped>\n",
       "    .dataframe tbody tr th:only-of-type {\n",
       "        vertical-align: middle;\n",
       "    }\n",
       "\n",
       "    .dataframe tbody tr th {\n",
       "        vertical-align: top;\n",
       "    }\n",
       "\n",
       "    .dataframe thead th {\n",
       "        text-align: right;\n",
       "    }\n",
       "</style>\n",
       "<table border=\"1\" class=\"dataframe\">\n",
       "  <thead>\n",
       "    <tr style=\"text-align: right;\">\n",
       "      <th></th>\n",
       "      <th>Unnamed: 0</th>\n",
       "      <th>Country Name</th>\n",
       "      <th>Year</th>\n",
       "      <th>Agriculture, value added (% of GDP)</th>\n",
       "      <th>CO2 emissions (metric tons per capita)</th>\n",
       "      <th>Domestic credit provided by financial sector (% of GDP)</th>\n",
       "      <th>Electric power consumption (kWh per capita)</th>\n",
       "      <th>Energy use (kg of oil equivalent per capita)</th>\n",
       "      <th>Exports of goods and services (% of GDP)</th>\n",
       "      <th>Fertility rate, total (births per woman)</th>\n",
       "      <th>GDP growth (annual %)</th>\n",
       "      <th>Imports of goods and services (% of GDP)</th>\n",
       "      <th>Industry, value added (% of GDP)</th>\n",
       "      <th>Inflation, GDP deflator (annual %)</th>\n",
       "      <th>Life expectancy at birth, total (years)</th>\n",
       "      <th>Population density (people per sq. km of land area)</th>\n",
       "      <th>Services, etc., value added (% of GDP)</th>\n",
       "      <th>pop</th>\n",
       "      <th>continent</th>\n",
       "      <th>gdpPercap</th>\n",
       "    </tr>\n",
       "  </thead>\n",
       "  <tbody>\n",
       "    <tr>\n",
       "      <th>17</th>\n",
       "      <td>17</td>\n",
       "      <td>Albania</td>\n",
       "      <td>1997</td>\n",
       "      <td>32.700160</td>\n",
       "      <td>0.490365</td>\n",
       "      <td>54.045926</td>\n",
       "      <td>680.688922</td>\n",
       "      <td>384.594958</td>\n",
       "      <td>9.745654</td>\n",
       "      <td>2.423</td>\n",
       "      <td>-10.837856</td>\n",
       "      <td>34.189995</td>\n",
       "      <td>15.377651</td>\n",
       "      <td>12.088706</td>\n",
       "      <td>72.898098</td>\n",
       "      <td>114.900766</td>\n",
       "      <td>51.922189</td>\n",
       "      <td>3428038.0</td>\n",
       "      <td>Europe</td>\n",
       "      <td>3193.054604</td>\n",
       "    </tr>\n",
       "    <tr>\n",
       "      <th>18</th>\n",
       "      <td>18</td>\n",
       "      <td>Albania</td>\n",
       "      <td>2002</td>\n",
       "      <td>24.235933</td>\n",
       "      <td>1.229541</td>\n",
       "      <td>47.193912</td>\n",
       "      <td>1561.122382</td>\n",
       "      <td>645.080154</td>\n",
       "      <td>19.598874</td>\n",
       "      <td>1.975</td>\n",
       "      <td>4.231371</td>\n",
       "      <td>44.335366</td>\n",
       "      <td>19.596072</td>\n",
       "      <td>2.410590</td>\n",
       "      <td>75.154610</td>\n",
       "      <td>111.350730</td>\n",
       "      <td>56.167995</td>\n",
       "      <td>3508512.0</td>\n",
       "      <td>Europe</td>\n",
       "      <td>4604.211737</td>\n",
       "    </tr>\n",
       "    <tr>\n",
       "      <th>19</th>\n",
       "      <td>19</td>\n",
       "      <td>Albania</td>\n",
       "      <td>2007</td>\n",
       "      <td>19.874798</td>\n",
       "      <td>1.322335</td>\n",
       "      <td>62.076755</td>\n",
       "      <td>1213.124369</td>\n",
       "      <td>679.861765</td>\n",
       "      <td>28.084222</td>\n",
       "      <td>1.635</td>\n",
       "      <td>5.900000</td>\n",
       "      <td>54.788201</td>\n",
       "      <td>25.334355</td>\n",
       "      <td>3.576195</td>\n",
       "      <td>76.470293</td>\n",
       "      <td>108.394781</td>\n",
       "      <td>54.790848</td>\n",
       "      <td>3600523.0</td>\n",
       "      <td>Europe</td>\n",
       "      <td>5937.029526</td>\n",
       "    </tr>\n",
       "    <tr>\n",
       "      <th>126</th>\n",
       "      <td>126</td>\n",
       "      <td>Austria</td>\n",
       "      <td>1992</td>\n",
       "      <td>2.771376</td>\n",
       "      <td>7.226236</td>\n",
       "      <td>118.077539</td>\n",
       "      <td>6227.498049</td>\n",
       "      <td>3239.063967</td>\n",
       "      <td>33.235331</td>\n",
       "      <td>1.510</td>\n",
       "      <td>2.093525</td>\n",
       "      <td>34.528976</td>\n",
       "      <td>32.744402</td>\n",
       "      <td>3.479093</td>\n",
       "      <td>75.817073</td>\n",
       "      <td>94.946827</td>\n",
       "      <td>64.484223</td>\n",
       "      <td>7914969.0</td>\n",
       "      <td>Europe</td>\n",
       "      <td>27042.018680</td>\n",
       "    </tr>\n",
       "    <tr>\n",
       "      <th>127</th>\n",
       "      <td>127</td>\n",
       "      <td>Austria</td>\n",
       "      <td>1997</td>\n",
       "      <td>2.147733</td>\n",
       "      <td>7.863668</td>\n",
       "      <td>128.165675</td>\n",
       "      <td>6620.447862</td>\n",
       "      <td>3542.521430</td>\n",
       "      <td>37.109505</td>\n",
       "      <td>1.390</td>\n",
       "      <td>2.205020</td>\n",
       "      <td>37.883464</td>\n",
       "      <td>32.155746</td>\n",
       "      <td>1.160828</td>\n",
       "      <td>77.319512</td>\n",
       "      <td>96.488750</td>\n",
       "      <td>65.696521</td>\n",
       "      <td>8069876.0</td>\n",
       "      <td>Europe</td>\n",
       "      <td>29095.920660</td>\n",
       "    </tr>\n",
       "  </tbody>\n",
       "</table>\n",
       "</div>"
      ],
      "text/plain": [
       "     Unnamed: 0 Country Name  Year  Agriculture, value added (% of GDP)  \\\n",
       "17           17      Albania  1997                            32.700160   \n",
       "18           18      Albania  2002                            24.235933   \n",
       "19           19      Albania  2007                            19.874798   \n",
       "126         126      Austria  1992                             2.771376   \n",
       "127         127      Austria  1997                             2.147733   \n",
       "\n",
       "     CO2 emissions (metric tons per capita)  \\\n",
       "17                                 0.490365   \n",
       "18                                 1.229541   \n",
       "19                                 1.322335   \n",
       "126                                7.226236   \n",
       "127                                7.863668   \n",
       "\n",
       "     Domestic credit provided by financial sector (% of GDP)  \\\n",
       "17                                           54.045926         \n",
       "18                                           47.193912         \n",
       "19                                           62.076755         \n",
       "126                                         118.077539         \n",
       "127                                         128.165675         \n",
       "\n",
       "     Electric power consumption (kWh per capita)  \\\n",
       "17                                    680.688922   \n",
       "18                                   1561.122382   \n",
       "19                                   1213.124369   \n",
       "126                                  6227.498049   \n",
       "127                                  6620.447862   \n",
       "\n",
       "     Energy use (kg of oil equivalent per capita)  \\\n",
       "17                                     384.594958   \n",
       "18                                     645.080154   \n",
       "19                                     679.861765   \n",
       "126                                   3239.063967   \n",
       "127                                   3542.521430   \n",
       "\n",
       "     Exports of goods and services (% of GDP)  \\\n",
       "17                                   9.745654   \n",
       "18                                  19.598874   \n",
       "19                                  28.084222   \n",
       "126                                 33.235331   \n",
       "127                                 37.109505   \n",
       "\n",
       "     Fertility rate, total (births per woman)  GDP growth (annual %)  \\\n",
       "17                                      2.423             -10.837856   \n",
       "18                                      1.975               4.231371   \n",
       "19                                      1.635               5.900000   \n",
       "126                                     1.510               2.093525   \n",
       "127                                     1.390               2.205020   \n",
       "\n",
       "     Imports of goods and services (% of GDP)  \\\n",
       "17                                  34.189995   \n",
       "18                                  44.335366   \n",
       "19                                  54.788201   \n",
       "126                                 34.528976   \n",
       "127                                 37.883464   \n",
       "\n",
       "     Industry, value added (% of GDP)  Inflation, GDP deflator (annual %)  \\\n",
       "17                          15.377651                           12.088706   \n",
       "18                          19.596072                            2.410590   \n",
       "19                          25.334355                            3.576195   \n",
       "126                         32.744402                            3.479093   \n",
       "127                         32.155746                            1.160828   \n",
       "\n",
       "     Life expectancy at birth, total (years)  \\\n",
       "17                                 72.898098   \n",
       "18                                 75.154610   \n",
       "19                                 76.470293   \n",
       "126                                75.817073   \n",
       "127                                77.319512   \n",
       "\n",
       "     Population density (people per sq. km of land area)  \\\n",
       "17                                          114.900766     \n",
       "18                                          111.350730     \n",
       "19                                          108.394781     \n",
       "126                                          94.946827     \n",
       "127                                          96.488750     \n",
       "\n",
       "     Services, etc., value added (% of GDP)        pop continent     gdpPercap  \n",
       "17                                51.922189  3428038.0    Europe   3193.054604  \n",
       "18                                56.167995  3508512.0    Europe   4604.211737  \n",
       "19                                54.790848  3600523.0    Europe   5937.029526  \n",
       "126                               64.484223  7914969.0    Europe  27042.018680  \n",
       "127                               65.696521  8069876.0    Europe  29095.920660  "
      ]
     },
     "execution_count": 93,
     "metadata": {},
     "output_type": "execute_result"
    }
   ],
   "source": [
    "import_df = df[(df['Year'] > 1990)]\n",
    "import_df = import_df[(df['continent'] == 'Europe') | (df['continent'] == 'Asia')].dropna()\n",
    "import_df.head()"
   ]
  },
  {
   "cell_type": "code",
   "execution_count": 103,
   "metadata": {},
   "outputs": [
    {
     "data": {
      "image/png": "[encoded data removed]",
      "text/plain": [
       "<Figure size 720x432 with 1 Axes>"
      ]
     },
     "metadata": {
      "needs_background": "light"
     },
     "output_type": "display_data"
    }
   ],
   "source": [
    "fig, ax = plt.subplots(figsize=(10,6))\n",
    "\n",
    "sns.boxplot(x='Year', y='Imports of goods and services (% of GDP)', hue='continent', data=import_df, palette='Blues')\n",
    "plt.xlabel('Year')\n",
    "plt.ylabel('Imports of Goods and Services (% of GDP)')\n",
    "plt.title('Imports of Goods across Asia and Europe after 1990', fontsize=14, fontweight='bold', y=1.05)\n",
    "sns.despine()\n",
    "plt.show()"
   ]
  },
  {
   "cell_type": "markdown",
   "metadata": {},
   "source": [
    "## Part 4: What is the country with the highest population density across all years?"
   ]
  },
  {
   "cell_type": "code",
   "execution_count": 114,
   "metadata": {},
   "outputs": [],
   "source": [
    "pop_df = df[['Year', 'Country Name', 'Population density (people per sq. km of land area)']].dropna().rename(columns={'Population density (people per sq. km of land area)': 'pop_density'})"
   ]
  },
  {
   "cell_type": "code",
   "execution_count": 247,
   "metadata": {},
   "outputs": [
    {
     "data": {
      "text/html": [
       "<div>\n",
       "<style scoped>\n",
       "    .dataframe tbody tr th:only-of-type {\n",
       "        vertical-align: middle;\n",
       "    }\n",
       "\n",
       "    .dataframe tbody tr th {\n",
       "        vertical-align: top;\n",
       "    }\n",
       "\n",
       "    .dataframe thead th {\n",
       "        text-align: right;\n",
       "    }\n",
       "</style>\n",
       "<table border=\"1\" class=\"dataframe\">\n",
       "  <thead>\n",
       "    <tr style=\"text-align: right;\">\n",
       "      <th></th>\n",
       "      <th>Year</th>\n",
       "      <th>Country Name</th>\n",
       "      <th>pop_density</th>\n",
       "    </tr>\n",
       "  </thead>\n",
       "  <tbody>\n",
       "    <tr>\n",
       "      <th>0</th>\n",
       "      <td>1962</td>\n",
       "      <td>Monaco</td>\n",
       "      <td>11521.000000</td>\n",
       "    </tr>\n",
       "    <tr>\n",
       "      <th>1</th>\n",
       "      <td>1962</td>\n",
       "      <td>Macao SAR, China</td>\n",
       "      <td>9051.250000</td>\n",
       "    </tr>\n",
       "    <tr>\n",
       "      <th>2</th>\n",
       "      <td>1962</td>\n",
       "      <td>Hong Kong SAR, China</td>\n",
       "      <td>3240.392157</td>\n",
       "    </tr>\n",
       "    <tr>\n",
       "      <th>3</th>\n",
       "      <td>1962</td>\n",
       "      <td>Singapore</td>\n",
       "      <td>2612.238806</td>\n",
       "    </tr>\n",
       "    <tr>\n",
       "      <th>4</th>\n",
       "      <td>1962</td>\n",
       "      <td>Gibraltar</td>\n",
       "      <td>2213.300000</td>\n",
       "    </tr>\n",
       "    <tr>\n",
       "      <th>...</th>\n",
       "      <td>...</td>\n",
       "      <td>...</td>\n",
       "      <td>...</td>\n",
       "    </tr>\n",
       "    <tr>\n",
       "      <th>2553</th>\n",
       "      <td>2007</td>\n",
       "      <td>Iceland</td>\n",
       "      <td>3.107890</td>\n",
       "    </tr>\n",
       "    <tr>\n",
       "      <th>2554</th>\n",
       "      <td>2007</td>\n",
       "      <td>Australia</td>\n",
       "      <td>2.711115</td>\n",
       "    </tr>\n",
       "    <tr>\n",
       "      <th>2555</th>\n",
       "      <td>2007</td>\n",
       "      <td>Namibia</td>\n",
       "      <td>2.530304</td>\n",
       "    </tr>\n",
       "    <tr>\n",
       "      <th>2556</th>\n",
       "      <td>2007</td>\n",
       "      <td>Mongolia</td>\n",
       "      <td>1.668926</td>\n",
       "    </tr>\n",
       "    <tr>\n",
       "      <th>2557</th>\n",
       "      <td>2007</td>\n",
       "      <td>Greenland</td>\n",
       "      <td>0.137788</td>\n",
       "    </tr>\n",
       "  </tbody>\n",
       "</table>\n",
       "<p>2558 rows × 3 columns</p>\n",
       "</div>"
      ],
      "text/plain": [
       "      Year          Country Name   pop_density\n",
       "0     1962                Monaco  11521.000000\n",
       "1     1962      Macao SAR, China   9051.250000\n",
       "2     1962  Hong Kong SAR, China   3240.392157\n",
       "3     1962             Singapore   2612.238806\n",
       "4     1962             Gibraltar   2213.300000\n",
       "...    ...                   ...           ...\n",
       "2553  2007               Iceland      3.107890\n",
       "2554  2007             Australia      2.711115\n",
       "2555  2007               Namibia      2.530304\n",
       "2556  2007              Mongolia      1.668926\n",
       "2557  2007             Greenland      0.137788\n",
       "\n",
       "[2558 rows x 3 columns]"
      ]
     },
     "execution_count": 247,
     "metadata": {},
     "output_type": "execute_result"
    }
   ],
   "source": [
    "highest_pop = pop_df.groupby(['Year','Country Name']).mean()\n",
    "highest_pop = highest_pop.sort_values('pop_density', ascending=False).sort_index(level='Year', sort_remaining=False).reset_index()\n",
    "highest_pop"
   ]
  },
  {
   "cell_type": "code",
   "execution_count": 279,
   "metadata": {},
   "outputs": [
    {
     "data": {
      "image/png": "[encoded data removed]",
      "text/plain": [
       "<Figure size 864x2160 with 10 Axes>"
      ]
     },
     "metadata": {},
     "output_type": "display_data"
    }
   ],
   "source": [
    "fig, ax = plt.subplots(nrows=5, ncols=2, figsize=(12,30))\n",
    "\n",
    "sns.stripplot(x='pop_density', y='Country Name', data=highest_pop[highest_pop['Year'] == 1962][:10], color='b', edgecolor='1', ax=ax[0][0])\n",
    "ax[0][0].set(xlabel=\"Population Density\", ylabel=\"\")\n",
    "ax[0][0].set_title('Countries with Greatest Population, 1962', fontsize=12, fontweight='bold', y=1.02)\n",
    "\n",
    "sns.stripplot(x='pop_density', y='Country Name', data=highest_pop[highest_pop['Year'] == 1967][:10], color='b', edgecolor='1', ax=ax[0][1])\n",
    "ax[0][1].set(xlabel=\"Population Density\", ylabel=\"\")\n",
    "ax[0][1].set_title('Countries with Greatest Population, 1967', fontsize=12, fontweight='bold', y=1.02)\n",
    "\n",
    "sns.stripplot(x='pop_density', y='Country Name', data=highest_pop[highest_pop['Year'] == 1972][:10], color='b', edgecolor='1', ax=ax[1][0])\n",
    "ax[1][0].set(xlabel=\"Population Density\", ylabel=\"\")\n",
    "ax[1][0].set_title('Countries with Greatest Population, 1972', fontsize=12, fontweight='bold', y=1.02)\n",
    "\n",
    "sns.stripplot(x='pop_density', y='Country Name', data=highest_pop[highest_pop['Year'] == 1977][:10], color='b', edgecolor='1', ax=ax[1][1])\n",
    "ax[1][1].set(xlabel=\"Population Density\", ylabel=\"\")\n",
    "ax[1][1].set_title('Countries with Greatest Population, 1977', fontsize=12, fontweight='bold', y=1.02)\n",
    "\n",
    "sns.stripplot(x='pop_density', y='Country Name', data=highest_pop[highest_pop['Year'] == 1982][:10], color='b', edgecolor='1', ax=ax[2][0])\n",
    "ax[2][0].set(xlabel=\"Population Density\", ylabel=\"\")\n",
    "ax[2][0].set_title('Countries with Greatest Population, 1982', fontsize=12, fontweight='bold', y=1.02)\n",
    "\n",
    "sns.stripplot(x='pop_density', y='Country Name', data=highest_pop[highest_pop['Year'] == 1987][:10], color='b', edgecolor='1', ax=ax[2][1])\n",
    "ax[2][1].set(xlabel=\"Population Density\", ylabel=\"\")\n",
    "ax[2][1].set_title('Countries with Greatest Population, 1987', fontsize=12, fontweight='bold', y=1.02)\n",
    "\n",
    "sns.stripplot(x='pop_density', y='Country Name', data=highest_pop[highest_pop['Year'] == 1992][:10], color='b', edgecolor='1', ax=ax[3][0])\n",
    "ax[3][0].set(xlabel=\"Population Density\", ylabel=\"\")\n",
    "ax[3][0].set_title('Countries with Greatest Population, 1992', fontsize=12, fontweight='bold', y=1.02)\n",
    "\n",
    "sns.stripplot(x='pop_density', y='Country Name', data=highest_pop[highest_pop['Year'] == 1997][:10], color='b', edgecolor='1', ax=ax[3][1])\n",
    "ax[3][1].set(xlabel=\"Population Density\", ylabel=\"\")\n",
    "ax[3][1].set_title('Countries with Greatest Population, 1997', fontsize=12, fontweight='bold', y=1.02)\n",
    "\n",
    "sns.stripplot(x='pop_density', y='Country Name', data=highest_pop[highest_pop['Year'] == 2002][:10], color='b', edgecolor='1', ax=ax[4][0])\n",
    "ax[4][0].set(xlabel=\"Population Density\", ylabel=\"\")\n",
    "ax[4][0].set_title('Countries with Greatest Population, 2002', fontsize=12, fontweight='bold', y=1.02)\n",
    "\n",
    "sns.stripplot(x='pop_density', y='Country Name', data=highest_pop[highest_pop['Year'] == 2007][:10], color='b', edgecolor='1', ax=ax[4][1])\n",
    "ax[4][1].set(xlabel=\"Population Density\", ylabel=\"\")\n",
    "ax[4][1].set_title('Countries with Greatest Population, 2007', fontsize=12, fontweight='bold', y=1.02)\n",
    "\n",
    "sns.despine()\n",
    "plt.subplots_adjust(left=0.1,\n",
    "                    bottom=0.1, \n",
    "                    right=0.9, \n",
    "                    top=0.9, \n",
    "                    wspace=0.4, \n",
    "                    hspace=0.4)\n",
    "plt.show()\n"
   ]
  },
  {
   "cell_type": "markdown",
   "metadata": {},
   "source": [
    "## Part 5: Which countries have the greatest increase in life expectancy?"
   ]
  },
  {
   "cell_type": "code",
   "execution_count": 296,
   "metadata": {},
   "outputs": [],
   "source": [
    "life_exp_1962 = df[['Country Name', 'Life expectancy at birth, total (years)']][life_exp['Year'] == 1962].dropna().rename(columns={'Life expectancy at birth, total (years)':'life_exp_1962'})\n",
    "life_exp_2007 = df[['Country Name', 'Life expectancy at birth, total (years)']][life_exp['Year'] == 2007].dropna().rename(columns={'Life expectancy at birth, total (years)':'life_exp_2007'})\n",
    "\n",
    "\n"
   ]
  },
  {
   "cell_type": "code",
   "execution_count": 293,
   "metadata": {},
   "outputs": [
    {
     "data": {
      "text/plain": [
       "236"
      ]
     },
     "execution_count": 293,
     "metadata": {},
     "output_type": "execute_result"
    }
   ],
   "source": [
    "len(life_exp_1962['Country Name'])"
   ]
  },
  {
   "cell_type": "code",
   "execution_count": 286,
   "metadata": {},
   "outputs": [
    {
     "data": {
      "text/plain": [
       "248"
      ]
     },
     "execution_count": 286,
     "metadata": {},
     "output_type": "execute_result"
    }
   ],
   "source": [
    "len(life_exp_2007['Country Name'])"
   ]
  },
  {
   "cell_type": "code",
   "execution_count": 299,
   "metadata": {},
   "outputs": [],
   "source": [
    "diff_life_exp = pd.merge(life_exp_1962, life_exp_2007, on='Country Name', how='inner')\n",
    "diff_life_exp['diff'] = diff_life_exp['life_exp_2007'] - diff_life_exp['life_exp_1962']"
   ]
  },
  {
   "cell_type": "code",
   "execution_count": 303,
   "metadata": {},
   "outputs": [],
   "source": [
    "highest_lifeexp = diff_life_exp.sort_values('diff', ascending=False)[:10]"
   ]
  },
  {
   "cell_type": "code",
   "execution_count": 304,
   "metadata": {},
   "outputs": [
    {
     "data": {
      "text/html": [
       "<div>\n",
       "<style scoped>\n",
       "    .dataframe tbody tr th:only-of-type {\n",
       "        vertical-align: middle;\n",
       "    }\n",
       "\n",
       "    .dataframe tbody tr th {\n",
       "        vertical-align: top;\n",
       "    }\n",
       "\n",
       "    .dataframe thead th {\n",
       "        text-align: right;\n",
       "    }\n",
       "</style>\n",
       "<table border=\"1\" class=\"dataframe\">\n",
       "  <thead>\n",
       "    <tr style=\"text-align: right;\">\n",
       "      <th></th>\n",
       "      <th>Country Name</th>\n",
       "      <th>life_exp_1962</th>\n",
       "      <th>life_exp_2007</th>\n",
       "      <th>diff</th>\n",
       "    </tr>\n",
       "  </thead>\n",
       "  <tbody>\n",
       "    <tr>\n",
       "      <th>136</th>\n",
       "      <td>Maldives</td>\n",
       "      <td>38.483561</td>\n",
       "      <td>75.399707</td>\n",
       "      <td>36.916146</td>\n",
       "    </tr>\n",
       "    <tr>\n",
       "      <th>20</th>\n",
       "      <td>Bhutan</td>\n",
       "      <td>33.094146</td>\n",
       "      <td>66.293098</td>\n",
       "      <td>33.198951</td>\n",
       "    </tr>\n",
       "    <tr>\n",
       "      <th>213</th>\n",
       "      <td>Timor-Leste</td>\n",
       "      <td>34.739049</td>\n",
       "      <td>65.824195</td>\n",
       "      <td>31.085146</td>\n",
       "    </tr>\n",
       "    <tr>\n",
       "      <th>217</th>\n",
       "      <td>Tunisia</td>\n",
       "      <td>43.341683</td>\n",
       "      <td>74.202439</td>\n",
       "      <td>30.860756</td>\n",
       "    </tr>\n",
       "    <tr>\n",
       "      <th>164</th>\n",
       "      <td>Oman</td>\n",
       "      <td>44.300512</td>\n",
       "      <td>75.123610</td>\n",
       "      <td>30.823098</td>\n",
       "    </tr>\n",
       "    <tr>\n",
       "      <th>154</th>\n",
       "      <td>Nepal</td>\n",
       "      <td>35.952293</td>\n",
       "      <td>66.551927</td>\n",
       "      <td>30.599634</td>\n",
       "    </tr>\n",
       "    <tr>\n",
       "      <th>39</th>\n",
       "      <td>China</td>\n",
       "      <td>44.398341</td>\n",
       "      <td>74.340439</td>\n",
       "      <td>29.942098</td>\n",
       "    </tr>\n",
       "    <tr>\n",
       "      <th>233</th>\n",
       "      <td>Yemen, Rep.</td>\n",
       "      <td>34.739561</td>\n",
       "      <td>61.954805</td>\n",
       "      <td>27.215244</td>\n",
       "    </tr>\n",
       "    <tr>\n",
       "      <th>184</th>\n",
       "      <td>Saudi Arabia</td>\n",
       "      <td>46.694512</td>\n",
       "      <td>73.345073</td>\n",
       "      <td>26.650561</td>\n",
       "    </tr>\n",
       "    <tr>\n",
       "      <th>100</th>\n",
       "      <td>Iran, Islamic Rep.</td>\n",
       "      <td>46.065805</td>\n",
       "      <td>72.674195</td>\n",
       "      <td>26.608390</td>\n",
       "    </tr>\n",
       "  </tbody>\n",
       "</table>\n",
       "</div>"
      ],
      "text/plain": [
       "           Country Name  life_exp_1962  life_exp_2007       diff\n",
       "136            Maldives      38.483561      75.399707  36.916146\n",
       "20               Bhutan      33.094146      66.293098  33.198951\n",
       "213         Timor-Leste      34.739049      65.824195  31.085146\n",
       "217             Tunisia      43.341683      74.202439  30.860756\n",
       "164                Oman      44.300512      75.123610  30.823098\n",
       "154               Nepal      35.952293      66.551927  30.599634\n",
       "39                China      44.398341      74.340439  29.942098\n",
       "233         Yemen, Rep.      34.739561      61.954805  27.215244\n",
       "184        Saudi Arabia      46.694512      73.345073  26.650561\n",
       "100  Iran, Islamic Rep.      46.065805      72.674195  26.608390"
      ]
     },
     "execution_count": 304,
     "metadata": {},
     "output_type": "execute_result"
    }
   ],
   "source": [
    "highest_lifeexp"
   ]
  },
  {
   "cell_type": "code",
   "execution_count": null,
   "metadata": {},
   "outputs": [],
   "source": [
    "\n",
    "ax = sns.stripplot(data=highest_lifeexp,x='',hue='gender',y='variable', size=10, linewidth=1)\n",
    "\n",
    "lines = ([[x, n] for n in group] for x, (_, group) in enumerate(df.groupby(['city'], sort = False)['variable']))\n",
    "lc = mc.LineCollection(lines, colors='red', linewidths=2)    \n",
    "ax.add_collection(lc)\n",
    "\n",
    "sns.plt.show()"
   ]
  }
 ],
 "metadata": {
  "kernelspec": {
   "display_name": "lhl-bootcamp",
   "language": "python",
   "name": "lhl-bootcamp"
  },
  "language_info": {
   "codemirror_mode": {
    "name": "ipython",
    "version": 3
   },
   "file_extension": ".py",
   "mimetype": "text/x-python",
   "name": "python",
   "nbconvert_exporter": "python",
   "pygments_lexer": "ipython3",
   "version": "3.7.7"
  }
 },
 "nbformat": 4,
 "nbformat_minor": 4
}
